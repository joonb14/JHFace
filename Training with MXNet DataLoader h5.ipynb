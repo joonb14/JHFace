{
 "cells": [
  {
   "cell_type": "markdown",
   "metadata": {},
   "source": [
    "# TensorFlow ArcFace"
   ]
  },
  {
   "cell_type": "markdown",
   "metadata": {},
   "source": [
    "### Ref https://github.com/peteryuX/arcface-tf2"
   ]
  },
  {
   "cell_type": "code",
   "execution_count": 1,
   "metadata": {},
   "outputs": [
    {
     "name": "stderr",
     "output_type": "stream",
     "text": [
      "/usr/local/lib/python3.6/dist-packages/torch/cuda/__init__.py:104: UserWarning: \n",
      "A100-SXM4-40GB with CUDA capability sm_80 is not compatible with the current PyTorch installation.\n",
      "The current PyTorch install supports CUDA capabilities sm_37 sm_50 sm_60 sm_70 sm_75.\n",
      "If you want to use the A100-SXM4-40GB GPU with PyTorch, please check the instructions at https://pytorch.org/get-started/locally/\n",
      "\n",
      "  warnings.warn(incompatible_device_warn.format(device_name, capability, \" \".join(arch_list), device_name))\n"
     ]
    }
   ],
   "source": [
    "from insightface.recognition.arcface_torch.dataset import MXFaceDataset, DataLoaderX\n",
    "import torch.utils.data.distributed\n",
    "import torch.distributed as dist\n",
    "from easydict import EasyDict as edict\n",
    "import time\n",
    "import os\n",
    "\n",
    "cfg = edict()\n",
    "cfg.rec = \"/raid/workspace/honghee/faces_emore/\"\n",
    "local_rank = 0\n",
    "cfg.batch_size = 64\n",
    "\n",
    "try:\n",
    "    world_size = int(os.environ['WORLD_SIZE'])\n",
    "    rank = int(os.environ['RANK'])\n",
    "    dist_url = \"tcp://{}:{}\".format(os.environ[\"MASTER_ADDR\"], os.environ[\"MASTER_PORT\"])\n",
    "except KeyError:\n",
    "    world_size = 1\n",
    "    rank = 0\n",
    "    dist_url = \"tcp://127.0.0.1:12584\"\n",
    "\n",
    "os.environ[\"CUDA_VISIBLE_DEVICES\"] = \"1\"\n",
    "dist.init_process_group(backend='nccl', init_method=dist_url, rank=rank, world_size=world_size)\n",
    "torch.cuda.set_device(local_rank)    "
   ]
  },
  {
   "cell_type": "code",
   "execution_count": 2,
   "metadata": {},
   "outputs": [
    {
     "name": "stdout",
     "output_type": "stream",
     "text": [
      "1\r\n"
     ]
    }
   ],
   "source": [
    "!echo $CUDA_VISIBLE_DEVICES"
   ]
  },
  {
   "cell_type": "code",
   "execution_count": 3,
   "metadata": {},
   "outputs": [],
   "source": [
    "train_set = MXFaceDataset(root_dir=cfg.rec, local_rank=local_rank)\n",
    "train_sampler = torch.utils.data.distributed.DistributedSampler(\n",
    "    train_set, shuffle=True)\n",
    "train_loader = DataLoaderX(\n",
    "    local_rank=local_rank, dataset=train_set, batch_size=cfg.batch_size,\n",
    "    sampler=train_sampler, num_workers=2, pin_memory=True, drop_last=True)"
   ]
  },
  {
   "cell_type": "code",
   "execution_count": 4,
   "metadata": {},
   "outputs": [],
   "source": [
    "# for step, (x_batch_train, y_batch_train) in enumerate(train_loader):\n",
    "#     x_batch_train = x_batch_train.cpu().numpy()\n",
    "#     y_batch_train = y_batch_train.cpu().numpy()\n",
    "#     print(y_batch_train)\n",
    "#     time.sleep(1)"
   ]
  },
  {
   "cell_type": "code",
   "execution_count": 5,
   "metadata": {},
   "outputs": [],
   "source": [
    "from tensorflow.keras.callbacks import LearningRateScheduler, EarlyStopping, ModelCheckpoint, ReduceLROnPlateau, TensorBoard\n",
    "from models import ArcFaceModel\n",
    "# from losses import SoftmaxLoss\n",
    "from losses import softmax_loss\n",
    "import dataset\n",
    "import tensorflow as tf\n",
    "import os\n",
    "import logging\n",
    "\n",
    "tf.get_logger().setLevel(logging.ERROR)"
   ]
  },
  {
   "cell_type": "code",
   "execution_count": 6,
   "metadata": {},
   "outputs": [
    {
     "name": "stdout",
     "output_type": "stream",
     "text": [
      "ArcHead\n",
      "ResNet50\n",
      "projection head: False\n",
      "Adam: False\n",
      "epoch: 100\n",
      "batch size: 64\n"
     ]
    }
   ],
   "source": [
    "### IJB-C Dataset\n",
    "# batch_size = 128\n",
    "# input_size = 112\n",
    "# embd_shape = 512\n",
    "# head_type = 'ArcHead'\n",
    "# backbone_type = 'MobileNetV2'\n",
    "# w_decay=5e-4\n",
    "# num_classes = 3584 \n",
    "# base_lr = 0.01\n",
    "# dataset_len = 13033 \n",
    "# epochs = 100\n",
    "# steps_per_epoch = dataset_len // batch_size\n",
    "\n",
    "### MS1M dataset\n",
    "num_classes = 85742 \n",
    "dataset_len = 5822653\n",
    "batch_size = 64 # Initially 128\n",
    "input_size = 112\n",
    "embd_shape = 512\n",
    "train_size = int(0.8 * dataset_len)\n",
    "steps_per_epoch = train_size // batch_size\n",
    "val_size = dataset_len - train_size\n",
    "validation_steps = val_size // batch_size\n",
    "\n",
    "w_decay=5e-4\n",
    "epochs = 100\n",
    "\n",
    "save_steps = 1000\n",
    "steps = 1\n",
    "is_ccrop=False\n",
    "binary_img=True\n",
    "\n",
    "is_Adam = False   # True\n",
    "projection_head = False  # True\n",
    "dgx = True\n",
    "\n",
    "head_type = 'ArcHead' # ''ArcHead', CosHead', 'SphereHead', 'CurHead', 'AdaHead', CadHead'  \n",
    "# Backbones w/ pretrained weights:\n",
    "#     MobileNet, MobileNetV2, InceptionResNetV2, InceptionV3, ResNet50, ResNet50V2, ResNet101V2, NASNetLarge, NASNetMobile, Xception, MobileNetV3Large, MobileNetV3Small, EfficientNetLite0~6, EfficientNetB0~7\n",
    "# Backbones w/o pretrained weights:\n",
    "#      MnasNetA1, MnasNetB1, MnasNetSmall \n",
    "backbone_type = 'ResNet50' \n",
    "\n",
    "if head_type == 'SphereHead':\n",
    "    base_lr = 0.01 \n",
    "    margin = 1.35\n",
    "    logist_scale = 30.0 \n",
    "elif head_type == 'CosHead':\n",
    "    base_lr = 0.01 \n",
    "    margin=0.35\n",
    "    logist_scale=64\n",
    "elif head_type == 'ArcHead':\n",
    "    base_lr = 0.1 \n",
    "    margin=0.5\n",
    "    logist_scale=64\n",
    "elif head_type == 'CurHead': \n",
    "    base_lr = 0.1 \n",
    "    margin=0.5\n",
    "    logist_scale=64\n",
    "elif head_type == 'CadHead': \n",
    "    base_lr = 0.1 \n",
    "    margin=0.0\n",
    "    logist_scale=64\n",
    "elif head_type == 'AdaHead':\n",
    "    base_lr = 0.1 \n",
    "    margin=0.0\n",
    "    logist_scale=64\n",
    "else:\n",
    "    base_lr = 0.01 # initially 0.01\n",
    "    \n",
    "print(head_type)\n",
    "print(backbone_type)\n",
    "print(\"projection head:\", projection_head)\n",
    "print(\"Adam:\", is_Adam)\n",
    "print(\"epoch:\", epochs)\n",
    "print(\"batch size:\", batch_size)"
   ]
  },
  {
   "cell_type": "code",
   "execution_count": 7,
   "metadata": {
    "scrolled": true
   },
   "outputs": [
    {
     "name": "stdout",
     "output_type": "stream",
     "text": [
      "Model: \"arcface_model\"\n",
      "__________________________________________________________________________________________________\n",
      "Layer (type)                    Output Shape         Param #     Connected to                     \n",
      "==================================================================================================\n",
      "input_image (InputLayer)        [(None, 112, 112, 3) 0                                            \n",
      "__________________________________________________________________________________________________\n",
      "resnet50 (Functional)           (None, 4, 4, 2048)   23587712    input_image[0][0]                \n",
      "__________________________________________________________________________________________________\n",
      "OutputLayer (Functional)        (None, 512)          16787968    resnet50[0][0]                   \n",
      "__________________________________________________________________________________________________\n",
      "label (InputLayer)              [(None,)]            0                                            \n",
      "__________________________________________________________________________________________________\n",
      "ArcHead (Functional)            (None, 85742)        43899904    OutputLayer[0][0]                \n",
      "                                                                 label[0][0]                      \n",
      "==================================================================================================\n",
      "Total params: 84,275,584\n",
      "Trainable params: 84,217,344\n",
      "Non-trainable params: 58,240\n",
      "__________________________________________________________________________________________________\n"
     ]
    }
   ],
   "source": [
    "model = ArcFaceModel(size=input_size,\n",
    "                         backbone_type=backbone_type,\n",
    "                         num_classes=num_classes,\n",
    "                         margin=margin, \n",
    "                         logist_scale=logist_scale,\n",
    "                         head_type=head_type,\n",
    "                         embd_shape=embd_shape,\n",
    "                         w_decay=w_decay,\n",
    "                         training=True,\n",
    "                         projection_head=projection_head)\n",
    "model.summary()\n",
    "\n",
    "learning_rate = tf.constant(base_lr)\n",
    "lr_schedule = tf.keras.optimizers.schedules.ExponentialDecay(learning_rate,\n",
    "                                                             decay_steps=300000, \n",
    "                                               decay_rate=0.1,staircase=True)\n",
    "if is_Adam:\n",
    "    optimizer = tf.keras.optimizers.Adam(\n",
    "        learning_rate=lr_schedule)\n",
    "else:\n",
    "#         optimizer = tf.keras.optimizers.SGD(\n",
    "#             learning_rate=learning_rate, momentum=0.9)\n",
    "    optimizer = tf.keras.optimizers.SGD(\n",
    "        learning_rate=lr_schedule, momentum=0.9)\n",
    "\n",
    "# checkpoint = tf.train.Checkpoint(optimizer=optimizer, model=model)\n",
    "# manager = tf.train.CheckpointManager(\n",
    "#     checkpoint, directory=\"tmp/ckpt\", max_to_keep=5)\n",
    "# status = checkpoint.restore(manager.latest_checkpoint)\n",
    "\n",
    "# Prepare the metrics.\n",
    "train_acc_metric = tf.keras.metrics.SparseCategoricalAccuracy()\n",
    "val_acc_metric = tf.keras.metrics.SparseCategoricalAccuracy()\n",
    "\n",
    "#     model.compile(optimizer=optimizer, loss=loss_fn)"
   ]
  },
  {
   "cell_type": "code",
   "execution_count": null,
   "metadata": {
    "scrolled": true
   },
   "outputs": [
    {
     "name": "stdout",
     "output_type": "stream",
     "text": [
      "======================================================\n",
      "================= Start of epoch 0 ==================\n",
      "======================================================\n",
      "Training loss (for one batch) at step 0: 45.2470\n",
      "Seen so far: 64 samples\n"
     ]
    },
    {
     "name": "stderr",
     "output_type": "stream",
     "text": [
      "100%|██████████| 188/188 [00:19<00:00,  9.48it/s]\n"
     ]
    },
    {
     "name": "stdout",
     "output_type": "stream",
     "text": [
      "Validation acc: 0.5000\n",
      "Time taken: 39.46s\n",
      "Training acc over epoch: 0.0000\n",
      "Training loss (for one batch) at step 5000: 45.5688\n",
      "Seen so far: 320064 samples\n"
     ]
    },
    {
     "name": "stderr",
     "output_type": "stream",
     "text": [
      "100%|██████████| 188/188 [00:18<00:00, 10.11it/s]\n"
     ]
    },
    {
     "name": "stdout",
     "output_type": "stream",
     "text": [
      "Validation acc: 0.5000\n",
      "Time taken: 744.41s\n",
      "Training acc over epoch: 0.0000\n",
      "Training loss (for one batch) at step 10000: 45.3880\n",
      "Seen so far: 640064 samples\n"
     ]
    },
    {
     "name": "stderr",
     "output_type": "stream",
     "text": [
      "100%|██████████| 188/188 [00:19<00:00,  9.80it/s]\n"
     ]
    },
    {
     "name": "stdout",
     "output_type": "stream",
     "text": [
      "Validation acc: 0.5000\n",
      "Time taken: 1446.08s\n",
      "Training acc over epoch: 0.0000\n",
      "Training loss (for one batch) at step 15000: 42.9450\n",
      "Seen so far: 960064 samples\n"
     ]
    },
    {
     "name": "stderr",
     "output_type": "stream",
     "text": [
      "100%|██████████| 188/188 [00:19<00:00,  9.57it/s]\n"
     ]
    },
    {
     "name": "stdout",
     "output_type": "stream",
     "text": [
      "Validation acc: 0.5000\n",
      "Time taken: 2145.34s\n",
      "Training acc over epoch: 0.0000\n",
      "Training loss (for one batch) at step 20000: 42.4492\n",
      "Seen so far: 1280064 samples\n"
     ]
    },
    {
     "name": "stderr",
     "output_type": "stream",
     "text": [
      "100%|██████████| 188/188 [00:19<00:00,  9.69it/s]\n"
     ]
    },
    {
     "name": "stdout",
     "output_type": "stream",
     "text": [
      "Validation acc: 0.5000\n",
      "Time taken: 2845.91s\n",
      "Training acc over epoch: 0.0000\n",
      "Training loss (for one batch) at step 25000: 41.5925\n",
      "Seen so far: 1600064 samples\n"
     ]
    },
    {
     "name": "stderr",
     "output_type": "stream",
     "text": [
      "100%|██████████| 188/188 [00:18<00:00,  9.98it/s]\n"
     ]
    },
    {
     "name": "stdout",
     "output_type": "stream",
     "text": [
      "Validation acc: 0.5000\n",
      "Time taken: 3548.40s\n",
      "Training acc over epoch: 0.0000\n",
      "Training loss (for one batch) at step 30000: 40.8943\n",
      "Seen so far: 1920064 samples\n"
     ]
    },
    {
     "name": "stderr",
     "output_type": "stream",
     "text": [
      "100%|██████████| 188/188 [00:18<00:00, 10.19it/s]\n"
     ]
    },
    {
     "name": "stdout",
     "output_type": "stream",
     "text": [
      "Validation acc: 0.5000\n",
      "Time taken: 4247.29s\n",
      "Training acc over epoch: 0.0000\n",
      "Training loss (for one batch) at step 35000: 40.7633\n",
      "Seen so far: 2240064 samples\n"
     ]
    },
    {
     "name": "stderr",
     "output_type": "stream",
     "text": [
      "100%|██████████| 188/188 [00:18<00:00, 10.12it/s]\n"
     ]
    },
    {
     "name": "stdout",
     "output_type": "stream",
     "text": [
      "Validation acc: 0.5000\n",
      "Time taken: 4948.48s\n",
      "Training acc over epoch: 0.0000\n",
      "Training loss (for one batch) at step 40000: 40.4220\n",
      "Seen so far: 2560064 samples\n"
     ]
    },
    {
     "name": "stderr",
     "output_type": "stream",
     "text": [
      "100%|██████████| 188/188 [00:18<00:00, 10.16it/s]\n"
     ]
    },
    {
     "name": "stdout",
     "output_type": "stream",
     "text": [
      "Validation acc: 0.5000\n",
      "Time taken: 5654.17s\n",
      "Training acc over epoch: 0.0000\n",
      "Training loss (for one batch) at step 45000: 39.8747\n",
      "Seen so far: 2880064 samples\n"
     ]
    },
    {
     "name": "stderr",
     "output_type": "stream",
     "text": [
      "100%|██████████| 188/188 [00:18<00:00,  9.98it/s]\n"
     ]
    },
    {
     "name": "stdout",
     "output_type": "stream",
     "text": [
      "Validation acc: 0.5000\n",
      "Time taken: 6356.26s\n",
      "Training acc over epoch: 0.0000\n",
      "Training loss (for one batch) at step 50000: 39.7535\n",
      "Seen so far: 3200064 samples\n"
     ]
    },
    {
     "name": "stderr",
     "output_type": "stream",
     "text": [
      "100%|██████████| 188/188 [00:18<00:00, 10.19it/s]\n"
     ]
    },
    {
     "name": "stdout",
     "output_type": "stream",
     "text": [
      "Validation acc: 0.5000\n",
      "Time taken: 7059.25s\n",
      "Training acc over epoch: 0.0000\n",
      "Training loss (for one batch) at step 55000: 39.5637\n",
      "Seen so far: 3520064 samples\n"
     ]
    },
    {
     "name": "stderr",
     "output_type": "stream",
     "text": [
      "100%|██████████| 188/188 [00:18<00:00,  9.94it/s]\n"
     ]
    },
    {
     "name": "stdout",
     "output_type": "stream",
     "text": [
      "Validation acc: 0.5000\n",
      "Time taken: 7760.17s\n",
      "Training acc over epoch: 0.0000\n",
      "Training loss (for one batch) at step 60000: 39.8332\n",
      "Seen so far: 3840064 samples\n"
     ]
    },
    {
     "name": "stderr",
     "output_type": "stream",
     "text": [
      "100%|██████████| 188/188 [00:18<00:00, 10.19it/s]\n"
     ]
    },
    {
     "name": "stdout",
     "output_type": "stream",
     "text": [
      "Validation acc: 0.5000\n",
      "Time taken: 8462.59s\n",
      "Training acc over epoch: 0.0000\n",
      "Training loss (for one batch) at step 65000: 39.4782\n",
      "Seen so far: 4160064 samples\n"
     ]
    },
    {
     "name": "stderr",
     "output_type": "stream",
     "text": [
      "100%|██████████| 188/188 [00:18<00:00, 10.11it/s]\n"
     ]
    },
    {
     "name": "stdout",
     "output_type": "stream",
     "text": [
      "Validation acc: 0.5000\n",
      "Time taken: 9165.17s\n",
      "Training acc over epoch: 0.0000\n",
      "Training loss (for one batch) at step 70000: 39.1592\n",
      "Seen so far: 4480064 samples\n"
     ]
    },
    {
     "name": "stderr",
     "output_type": "stream",
     "text": [
      "100%|██████████| 188/188 [00:18<00:00, 10.05it/s]\n"
     ]
    },
    {
     "name": "stdout",
     "output_type": "stream",
     "text": [
      "Validation acc: 0.5000\n",
      "Time taken: 9874.52s\n",
      "Training acc over epoch: 0.0000\n",
      "Training loss (for one batch) at step 75000: 39.1277\n",
      "Seen so far: 4800064 samples\n"
     ]
    },
    {
     "name": "stderr",
     "output_type": "stream",
     "text": [
      "100%|██████████| 188/188 [00:18<00:00,  9.98it/s]\n"
     ]
    },
    {
     "name": "stdout",
     "output_type": "stream",
     "text": [
      "Validation acc: 0.5000\n",
      "Time taken: 10580.37s\n",
      "Training acc over epoch: 0.0000\n",
      "Training loss (for one batch) at step 80000: 39.4851\n",
      "Seen so far: 5120064 samples\n"
     ]
    },
    {
     "name": "stderr",
     "output_type": "stream",
     "text": [
      "100%|██████████| 188/188 [00:19<00:00,  9.71it/s]\n"
     ]
    },
    {
     "name": "stdout",
     "output_type": "stream",
     "text": [
      "Validation acc: 0.5000\n",
      "Time taken: 11288.66s\n",
      "Training acc over epoch: 0.0000\n",
      "Training loss (for one batch) at step 85000: 37.7680\n",
      "Seen so far: 5440064 samples\n"
     ]
    },
    {
     "name": "stderr",
     "output_type": "stream",
     "text": [
      "100%|██████████| 188/188 [00:18<00:00, 10.05it/s]\n"
     ]
    },
    {
     "name": "stdout",
     "output_type": "stream",
     "text": [
      "Validation acc: 0.5000\n",
      "Time taken: 11993.18s\n",
      "Training acc over epoch: 0.0000\n",
      "Training loss (for one batch) at step 90000: 38.2663\n",
      "Seen so far: 5760064 samples\n"
     ]
    },
    {
     "name": "stderr",
     "output_type": "stream",
     "text": [
      "100%|██████████| 188/188 [00:18<00:00, 10.16it/s]\n"
     ]
    },
    {
     "name": "stdout",
     "output_type": "stream",
     "text": [
      "Validation acc: 0.5000\n",
      "Time taken: 12698.59s\n",
      "Training acc over epoch: 0.0000\n",
      "======================================================\n",
      "================= Start of epoch 1 ==================\n",
      "======================================================\n",
      "Training loss (for one batch) at step 0: 37.5715\n",
      "Seen so far: 64 samples\n"
     ]
    },
    {
     "name": "stderr",
     "output_type": "stream",
     "text": [
      "100%|██████████| 188/188 [00:18<00:00,  9.93it/s]\n"
     ]
    },
    {
     "name": "stdout",
     "output_type": "stream",
     "text": [
      "Validation acc: 0.5000\n",
      "Time taken: 29.74s\n",
      "Training acc over epoch: 0.0000\n",
      "Training loss (for one batch) at step 5000: 38.1056\n",
      "Seen so far: 320064 samples\n"
     ]
    },
    {
     "name": "stderr",
     "output_type": "stream",
     "text": [
      "100%|██████████| 188/188 [00:18<00:00,  9.93it/s]\n"
     ]
    },
    {
     "name": "stdout",
     "output_type": "stream",
     "text": [
      "Validation acc: 0.5000\n",
      "Time taken: 735.72s\n",
      "Training acc over epoch: 0.0000\n",
      "Training loss (for one batch) at step 10000: 37.9646\n",
      "Seen so far: 640064 samples\n"
     ]
    },
    {
     "name": "stderr",
     "output_type": "stream",
     "text": [
      "100%|██████████| 188/188 [00:18<00:00, 10.16it/s]\n"
     ]
    },
    {
     "name": "stdout",
     "output_type": "stream",
     "text": [
      "Validation acc: 0.5000\n",
      "Time taken: 1443.36s\n",
      "Training acc over epoch: 0.0000\n",
      "Training loss (for one batch) at step 15000: 37.1844\n",
      "Seen so far: 960064 samples\n"
     ]
    },
    {
     "name": "stderr",
     "output_type": "stream",
     "text": [
      "100%|██████████| 188/188 [00:18<00:00,  9.91it/s]\n"
     ]
    },
    {
     "name": "stdout",
     "output_type": "stream",
     "text": [
      "Validation acc: 0.5000\n",
      "Time taken: 2146.61s\n",
      "Training acc over epoch: 0.0000\n",
      "Training loss (for one batch) at step 20000: 37.6303\n",
      "Seen so far: 1280064 samples\n"
     ]
    },
    {
     "name": "stderr",
     "output_type": "stream",
     "text": [
      "100%|██████████| 188/188 [00:18<00:00, 10.26it/s]\n"
     ]
    },
    {
     "name": "stdout",
     "output_type": "stream",
     "text": [
      "Validation acc: 0.5000\n",
      "Time taken: 2852.33s\n",
      "Training acc over epoch: 0.0000\n",
      "Training loss (for one batch) at step 25000: 36.9671\n",
      "Seen so far: 1600064 samples\n"
     ]
    },
    {
     "name": "stderr",
     "output_type": "stream",
     "text": [
      "100%|██████████| 188/188 [00:18<00:00, 10.08it/s]\n"
     ]
    },
    {
     "name": "stdout",
     "output_type": "stream",
     "text": [
      "Validation acc: 0.5000\n",
      "Time taken: 3556.05s\n",
      "Training acc over epoch: 0.0000\n",
      "Training loss (for one batch) at step 30000: 36.0979\n",
      "Seen so far: 1920064 samples\n"
     ]
    },
    {
     "name": "stderr",
     "output_type": "stream",
     "text": [
      "100%|██████████| 188/188 [00:18<00:00,  9.93it/s]\n"
     ]
    },
    {
     "name": "stdout",
     "output_type": "stream",
     "text": [
      "Validation acc: 0.5000\n",
      "Time taken: 4261.79s\n",
      "Training acc over epoch: 0.0000\n",
      "Training loss (for one batch) at step 35000: 36.9750\n",
      "Seen so far: 2240064 samples\n"
     ]
    },
    {
     "name": "stderr",
     "output_type": "stream",
     "text": [
      "100%|██████████| 188/188 [00:18<00:00, 10.32it/s]\n"
     ]
    },
    {
     "name": "stdout",
     "output_type": "stream",
     "text": [
      "Validation acc: 0.5000\n",
      "Time taken: 4967.89s\n",
      "Training acc over epoch: 0.0001\n",
      "Training loss (for one batch) at step 40000: 36.3601\n",
      "Seen so far: 2560064 samples\n"
     ]
    },
    {
     "name": "stderr",
     "output_type": "stream",
     "text": [
      "100%|██████████| 188/188 [00:18<00:00, 10.21it/s]\n"
     ]
    },
    {
     "name": "stdout",
     "output_type": "stream",
     "text": [
      "Validation acc: 0.5000\n",
      "Time taken: 5678.82s\n",
      "Training acc over epoch: 0.0000\n",
      "Training loss (for one batch) at step 45000: 35.2577\n",
      "Seen so far: 2880064 samples\n"
     ]
    },
    {
     "name": "stderr",
     "output_type": "stream",
     "text": [
      "100%|██████████| 188/188 [00:18<00:00, 10.38it/s]\n"
     ]
    },
    {
     "name": "stdout",
     "output_type": "stream",
     "text": [
      "Validation acc: 0.5000\n",
      "Time taken: 6382.96s\n",
      "Training acc over epoch: 0.0001\n",
      "Training loss (for one batch) at step 50000: 34.3282\n",
      "Seen so far: 3200064 samples\n"
     ]
    },
    {
     "name": "stderr",
     "output_type": "stream",
     "text": [
      "100%|██████████| 188/188 [00:18<00:00, 10.23it/s]\n"
     ]
    },
    {
     "name": "stdout",
     "output_type": "stream",
     "text": [
      "Validation acc: 0.5000\n",
      "Time taken: 7087.48s\n",
      "Training acc over epoch: 0.0001\n",
      "Training loss (for one batch) at step 55000: 34.3408\n",
      "Seen so far: 3520064 samples\n"
     ]
    },
    {
     "name": "stderr",
     "output_type": "stream",
     "text": [
      "100%|██████████| 188/188 [00:18<00:00, 10.12it/s]\n"
     ]
    },
    {
     "name": "stdout",
     "output_type": "stream",
     "text": [
      "Validation acc: 0.5000\n",
      "Time taken: 7793.66s\n",
      "Training acc over epoch: 0.0001\n",
      "Training loss (for one batch) at step 60000: 34.7112\n",
      "Seen so far: 3840064 samples\n"
     ]
    },
    {
     "name": "stderr",
     "output_type": "stream",
     "text": [
      "100%|██████████| 188/188 [00:18<00:00, 10.35it/s]\n"
     ]
    },
    {
     "name": "stdout",
     "output_type": "stream",
     "text": [
      "Validation acc: 0.5000\n",
      "Time taken: 8497.62s\n",
      "Training acc over epoch: 0.0001\n",
      "Training loss (for one batch) at step 65000: 33.4561\n",
      "Seen so far: 4160064 samples\n"
     ]
    },
    {
     "name": "stderr",
     "output_type": "stream",
     "text": [
      "100%|██████████| 188/188 [00:19<00:00,  9.89it/s]\n"
     ]
    },
    {
     "name": "stdout",
     "output_type": "stream",
     "text": [
      "Validation acc: 0.5000\n",
      "Time taken: 9201.59s\n",
      "Training acc over epoch: 0.0002\n",
      "Training loss (for one batch) at step 70000: 33.0762\n",
      "Seen so far: 4480064 samples\n"
     ]
    },
    {
     "name": "stderr",
     "output_type": "stream",
     "text": [
      "100%|██████████| 188/188 [00:18<00:00, 10.43it/s]\n"
     ]
    },
    {
     "name": "stdout",
     "output_type": "stream",
     "text": [
      "Validation acc: 0.5000\n",
      "Time taken: 9902.94s\n",
      "Training acc over epoch: 0.0002\n",
      "Training loss (for one batch) at step 75000: 34.0663\n",
      "Seen so far: 4800064 samples\n"
     ]
    },
    {
     "name": "stderr",
     "output_type": "stream",
     "text": [
      "100%|██████████| 188/188 [00:18<00:00, 10.19it/s]\n"
     ]
    },
    {
     "name": "stdout",
     "output_type": "stream",
     "text": [
      "Validation acc: 0.5000\n",
      "Time taken: 10605.84s\n",
      "Training acc over epoch: 0.0004\n",
      "Training loss (for one batch) at step 80000: 34.8502\n",
      "Seen so far: 5120064 samples\n"
     ]
    },
    {
     "name": "stderr",
     "output_type": "stream",
     "text": [
      "100%|██████████| 188/188 [00:18<00:00, 10.38it/s]\n"
     ]
    },
    {
     "name": "stdout",
     "output_type": "stream",
     "text": [
      "Validation acc: 0.5000\n",
      "Time taken: 11307.36s\n",
      "Training acc over epoch: 0.0005\n",
      "Training loss (for one batch) at step 85000: 31.3591\n",
      "Seen so far: 5440064 samples\n"
     ]
    },
    {
     "name": "stderr",
     "output_type": "stream",
     "text": [
      "100%|██████████| 188/188 [00:18<00:00, 10.35it/s]\n"
     ]
    },
    {
     "name": "stdout",
     "output_type": "stream",
     "text": [
      "Validation acc: 0.5000\n",
      "Time taken: 12009.12s\n",
      "Training acc over epoch: 0.0005\n",
      "Training loss (for one batch) at step 90000: 32.4133\n",
      "Seen so far: 5760064 samples\n"
     ]
    },
    {
     "name": "stderr",
     "output_type": "stream",
     "text": [
      "100%|██████████| 188/188 [00:17<00:00, 10.45it/s]\n"
     ]
    },
    {
     "name": "stdout",
     "output_type": "stream",
     "text": [
      "Validation acc: 0.5000\n",
      "Time taken: 12717.46s\n",
      "Training acc over epoch: 0.0005\n",
      "======================================================\n",
      "================= Start of epoch 2 ==================\n",
      "======================================================\n",
      "Training loss (for one batch) at step 0: 31.6775\n",
      "Seen so far: 64 samples\n"
     ]
    },
    {
     "name": "stderr",
     "output_type": "stream",
     "text": [
      "100%|██████████| 188/188 [00:18<00:00, 10.13it/s]\n"
     ]
    },
    {
     "name": "stdout",
     "output_type": "stream",
     "text": [
      "Validation acc: 0.5000\n",
      "Time taken: 28.88s\n",
      "Training acc over epoch: 0.0007\n",
      "Training loss (for one batch) at step 5000: 32.3268\n",
      "Seen so far: 320064 samples\n"
     ]
    },
    {
     "name": "stderr",
     "output_type": "stream",
     "text": [
      "100%|██████████| 188/188 [00:18<00:00,  9.95it/s]\n"
     ]
    },
    {
     "name": "stdout",
     "output_type": "stream",
     "text": [
      "Validation acc: 0.5000\n",
      "Time taken: 737.15s\n",
      "Training acc over epoch: 0.0007\n",
      "Training loss (for one batch) at step 10000: 31.7519\n",
      "Seen so far: 640064 samples\n"
     ]
    },
    {
     "name": "stderr",
     "output_type": "stream",
     "text": [
      "100%|██████████| 188/188 [00:18<00:00, 10.38it/s]\n"
     ]
    },
    {
     "name": "stdout",
     "output_type": "stream",
     "text": [
      "Validation acc: 0.5000\n",
      "Time taken: 1444.96s\n",
      "Training acc over epoch: 0.0009\n",
      "Training loss (for one batch) at step 15000: 30.9365\n",
      "Seen so far: 960064 samples\n"
     ]
    },
    {
     "name": "stderr",
     "output_type": "stream",
     "text": [
      "100%|██████████| 188/188 [00:19<00:00,  9.41it/s]\n"
     ]
    },
    {
     "name": "stdout",
     "output_type": "stream",
     "text": [
      "Validation acc: 0.5000\n",
      "Time taken: 2152.14s\n",
      "Training acc over epoch: 0.0010\n",
      "Training loss (for one batch) at step 20000: 31.2309\n",
      "Seen so far: 1280064 samples\n"
     ]
    },
    {
     "name": "stderr",
     "output_type": "stream",
     "text": [
      "100%|██████████| 188/188 [00:18<00:00, 10.28it/s]\n"
     ]
    },
    {
     "name": "stdout",
     "output_type": "stream",
     "text": [
      "Validation acc: 0.5000\n",
      "Time taken: 2857.37s\n",
      "Training acc over epoch: 0.0012\n",
      "Training loss (for one batch) at step 25000: 30.5850\n",
      "Seen so far: 1600064 samples\n"
     ]
    },
    {
     "name": "stderr",
     "output_type": "stream",
     "text": [
      "100%|██████████| 188/188 [00:18<00:00, 10.05it/s]\n"
     ]
    },
    {
     "name": "stdout",
     "output_type": "stream",
     "text": [
      "Validation acc: 0.5000\n",
      "Time taken: 3569.07s\n",
      "Training acc over epoch: 0.0015\n",
      "Training loss (for one batch) at step 30000: 29.6470\n",
      "Seen so far: 1920064 samples\n"
     ]
    },
    {
     "name": "stderr",
     "output_type": "stream",
     "text": [
      "100%|██████████| 188/188 [00:18<00:00, 10.01it/s]\n"
     ]
    },
    {
     "name": "stdout",
     "output_type": "stream",
     "text": [
      "Validation acc: 0.5005\n",
      "Time taken: 4288.14s\n",
      "Training acc over epoch: 0.0020\n",
      "Training loss (for one batch) at step 35000: 29.9953\n",
      "Seen so far: 2240064 samples\n"
     ]
    },
    {
     "name": "stderr",
     "output_type": "stream",
     "text": [
      "100%|██████████| 188/188 [00:18<00:00,  9.93it/s]\n"
     ]
    },
    {
     "name": "stdout",
     "output_type": "stream",
     "text": [
      "Validation acc: 0.5022\n",
      "Time taken: 5010.36s\n",
      "Training acc over epoch: 0.0023\n",
      "Training loss (for one batch) at step 40000: 28.9588\n",
      "Seen so far: 2560064 samples\n"
     ]
    },
    {
     "name": "stderr",
     "output_type": "stream",
     "text": [
      "100%|██████████| 188/188 [00:18<00:00, 10.13it/s]\n"
     ]
    },
    {
     "name": "stdout",
     "output_type": "stream",
     "text": [
      "Validation acc: 0.5000\n",
      "Time taken: 5728.53s\n",
      "Training acc over epoch: 0.0024\n",
      "Training loss (for one batch) at step 45000: 28.9621\n",
      "Seen so far: 2880064 samples\n"
     ]
    },
    {
     "name": "stderr",
     "output_type": "stream",
     "text": [
      "100%|██████████| 188/188 [00:19<00:00,  9.83it/s]\n"
     ]
    },
    {
     "name": "stdout",
     "output_type": "stream",
     "text": [
      "Validation acc: 0.5000\n",
      "Time taken: 6446.43s\n",
      "Training acc over epoch: 0.0032\n",
      "Training loss (for one batch) at step 50000: 26.7856\n",
      "Seen so far: 3200064 samples\n"
     ]
    },
    {
     "name": "stderr",
     "output_type": "stream",
     "text": [
      "100%|██████████| 188/188 [00:18<00:00,  9.92it/s]\n"
     ]
    },
    {
     "name": "stdout",
     "output_type": "stream",
     "text": [
      "Validation acc: 0.5112\n",
      "Time taken: 7168.47s\n",
      "Training acc over epoch: 0.0036\n",
      "Training loss (for one batch) at step 55000: 26.4393\n",
      "Seen so far: 3520064 samples\n"
     ]
    },
    {
     "name": "stderr",
     "output_type": "stream",
     "text": [
      "100%|██████████| 188/188 [00:18<00:00, 10.17it/s]\n"
     ]
    },
    {
     "name": "stdout",
     "output_type": "stream",
     "text": [
      "Validation acc: 0.5118\n",
      "Time taken: 7887.61s\n",
      "Training acc over epoch: 0.0044\n",
      "Training loss (for one batch) at step 60000: 27.1088\n",
      "Seen so far: 3840064 samples\n"
     ]
    },
    {
     "name": "stderr",
     "output_type": "stream",
     "text": [
      "100%|██████████| 188/188 [00:18<00:00, 10.23it/s]\n"
     ]
    },
    {
     "name": "stdout",
     "output_type": "stream",
     "text": [
      "Validation acc: 0.5230\n",
      "Time taken: 8610.76s\n",
      "Training acc over epoch: 0.0049\n",
      "Training loss (for one batch) at step 65000: 25.7578\n",
      "Seen so far: 4160064 samples\n"
     ]
    },
    {
     "name": "stderr",
     "output_type": "stream",
     "text": [
      "100%|██████████| 188/188 [00:18<00:00, 10.00it/s]\n"
     ]
    },
    {
     "name": "stdout",
     "output_type": "stream",
     "text": [
      "Validation acc: 0.5420\n",
      "Time taken: 9331.83s\n",
      "Training acc over epoch: 0.0057\n",
      "Training loss (for one batch) at step 70000: 24.7274\n",
      "Seen so far: 4480064 samples\n"
     ]
    },
    {
     "name": "stderr",
     "output_type": "stream",
     "text": [
      "100%|██████████| 188/188 [00:19<00:00,  9.60it/s]\n"
     ]
    },
    {
     "name": "stdout",
     "output_type": "stream",
     "text": [
      "Validation acc: 0.5530\n",
      "Time taken: 10056.58s\n",
      "Training acc over epoch: 0.0065\n",
      "Training loss (for one batch) at step 75000: 26.8271\n",
      "Seen so far: 4800064 samples\n"
     ]
    },
    {
     "name": "stderr",
     "output_type": "stream",
     "text": [
      "100%|██████████| 188/188 [00:18<00:00, 10.12it/s]\n"
     ]
    },
    {
     "name": "stdout",
     "output_type": "stream",
     "text": [
      "Validation acc: 0.5957\n",
      "Time taken: 10765.17s\n",
      "Training acc over epoch: 0.0076\n",
      "Training loss (for one batch) at step 80000: 27.3730\n",
      "Seen so far: 5120064 samples\n"
     ]
    },
    {
     "name": "stderr",
     "output_type": "stream",
     "text": [
      "100%|██████████| 188/188 [00:19<00:00,  9.85it/s]\n"
     ]
    },
    {
     "name": "stdout",
     "output_type": "stream",
     "text": [
      "Validation acc: 0.6528\n",
      "Time taken: 11469.10s\n",
      "Training acc over epoch: 0.0091\n",
      "Training loss (for one batch) at step 85000: 22.4449\n",
      "Seen so far: 5440064 samples\n"
     ]
    },
    {
     "name": "stderr",
     "output_type": "stream",
     "text": [
      "100%|██████████| 188/188 [00:18<00:00, 10.19it/s]\n"
     ]
    },
    {
     "name": "stdout",
     "output_type": "stream",
     "text": [
      "Validation acc: 0.6888\n",
      "Time taken: 12183.83s\n",
      "Training acc over epoch: 0.0100\n",
      "Training loss (for one batch) at step 90000: 24.4663\n",
      "Seen so far: 5760064 samples\n"
     ]
    },
    {
     "name": "stderr",
     "output_type": "stream",
     "text": [
      "100%|██████████| 188/188 [00:18<00:00, 10.23it/s]\n"
     ]
    },
    {
     "name": "stdout",
     "output_type": "stream",
     "text": [
      "Validation acc: 0.7915\n",
      "Time taken: 12886.59s\n",
      "Training acc over epoch: 0.0112\n",
      "======================================================\n",
      "================= Start of epoch 3 ==================\n",
      "======================================================\n",
      "Training loss (for one batch) at step 0: 23.9307\n",
      "Seen so far: 64 samples\n"
     ]
    },
    {
     "name": "stderr",
     "output_type": "stream",
     "text": [
      "100%|██████████| 188/188 [00:18<00:00, 10.03it/s]\n"
     ]
    },
    {
     "name": "stdout",
     "output_type": "stream",
     "text": [
      "Validation acc: 0.8642\n",
      "Time taken: 28.90s\n",
      "Training acc over epoch: 0.0122\n",
      "Training loss (for one batch) at step 5000: 24.3979\n",
      "Seen so far: 320064 samples\n"
     ]
    },
    {
     "name": "stderr",
     "output_type": "stream",
     "text": [
      "100%|██████████| 188/188 [00:18<00:00, 10.21it/s]\n"
     ]
    },
    {
     "name": "stdout",
     "output_type": "stream",
     "text": [
      "Validation acc: 0.7820\n",
      "Time taken: 736.14s\n",
      "Training acc over epoch: 0.0127\n",
      "Training loss (for one batch) at step 10000: 23.9832\n",
      "Seen so far: 640064 samples\n"
     ]
    },
    {
     "name": "stderr",
     "output_type": "stream",
     "text": [
      "100%|██████████| 188/188 [00:18<00:00,  9.99it/s]\n"
     ]
    },
    {
     "name": "stdout",
     "output_type": "stream",
     "text": [
      "Validation acc: 0.8355\n",
      "Time taken: 1435.89s\n",
      "Training acc over epoch: 0.0145\n",
      "Training loss (for one batch) at step 15000: 23.0517\n",
      "Seen so far: 960064 samples\n"
     ]
    },
    {
     "name": "stderr",
     "output_type": "stream",
     "text": [
      "100%|██████████| 188/188 [00:18<00:00, 10.06it/s]\n"
     ]
    },
    {
     "name": "stdout",
     "output_type": "stream",
     "text": [
      "Validation acc: 0.8632\n",
      "Time taken: 2142.23s\n",
      "Training acc over epoch: 0.0164\n",
      "Training loss (for one batch) at step 20000: 23.7198\n",
      "Seen so far: 1280064 samples\n"
     ]
    },
    {
     "name": "stderr",
     "output_type": "stream",
     "text": [
      "100%|██████████| 188/188 [00:19<00:00,  9.87it/s]\n"
     ]
    },
    {
     "name": "stdout",
     "output_type": "stream",
     "text": [
      "Validation acc: 0.8530\n",
      "Time taken: 2849.15s\n",
      "Training acc over epoch: 0.0185\n",
      "Training loss (for one batch) at step 25000: 22.5839\n",
      "Seen so far: 1600064 samples\n"
     ]
    },
    {
     "name": "stderr",
     "output_type": "stream",
     "text": [
      "100%|██████████| 188/188 [00:20<00:00,  9.35it/s]\n"
     ]
    },
    {
     "name": "stdout",
     "output_type": "stream",
     "text": [
      "Validation acc: 0.9358\n",
      "Time taken: 3560.05s\n",
      "Training acc over epoch: 0.0217\n",
      "Training loss (for one batch) at step 30000: 21.5705\n",
      "Seen so far: 1920064 samples\n"
     ]
    },
    {
     "name": "stderr",
     "output_type": "stream",
     "text": [
      "100%|██████████| 188/188 [00:19<00:00,  9.64it/s]\n"
     ]
    },
    {
     "name": "stdout",
     "output_type": "stream",
     "text": [
      "Validation acc: 0.9510\n",
      "Time taken: 4265.97s\n",
      "Training acc over epoch: 0.0273\n",
      "Training loss (for one batch) at step 35000: 22.1834\n",
      "Seen so far: 2240064 samples\n"
     ]
    },
    {
     "name": "stderr",
     "output_type": "stream",
     "text": [
      "100%|██████████| 188/188 [00:20<00:00,  9.38it/s]\n"
     ]
    },
    {
     "name": "stdout",
     "output_type": "stream",
     "text": [
      "Validation acc: 0.9538\n",
      "Time taken: 4976.15s\n",
      "Training acc over epoch: 0.0335\n",
      "Training loss (for one batch) at step 40000: 21.4151\n",
      "Seen so far: 2560064 samples\n"
     ]
    },
    {
     "name": "stderr",
     "output_type": "stream",
     "text": [
      "100%|██████████| 188/188 [00:19<00:00,  9.76it/s]\n"
     ]
    },
    {
     "name": "stdout",
     "output_type": "stream",
     "text": [
      "Validation acc: 0.9530\n",
      "Time taken: 5687.25s\n",
      "Training acc over epoch: 0.0359\n",
      "Training loss (for one batch) at step 45000: 20.6119\n",
      "Seen so far: 2880064 samples\n"
     ]
    },
    {
     "name": "stderr",
     "output_type": "stream",
     "text": [
      "100%|██████████| 188/188 [00:18<00:00, 10.10it/s]\n"
     ]
    },
    {
     "name": "stdout",
     "output_type": "stream",
     "text": [
      "Validation acc: 0.9563\n",
      "Time taken: 6393.65s\n",
      "Training acc over epoch: 0.0374\n",
      "Training loss (for one batch) at step 50000: 19.5147\n",
      "Seen so far: 3200064 samples\n"
     ]
    },
    {
     "name": "stderr",
     "output_type": "stream",
     "text": [
      "100%|██████████| 188/188 [00:18<00:00, 10.16it/s]\n"
     ]
    },
    {
     "name": "stdout",
     "output_type": "stream",
     "text": [
      "Validation acc: 0.9463\n",
      "Time taken: 7097.76s\n",
      "Training acc over epoch: 0.0384\n",
      "Training loss (for one batch) at step 55000: 18.8420\n",
      "Seen so far: 3520064 samples\n"
     ]
    },
    {
     "name": "stderr",
     "output_type": "stream",
     "text": [
      "100%|██████████| 188/188 [00:18<00:00,  9.97it/s]\n"
     ]
    },
    {
     "name": "stdout",
     "output_type": "stream",
     "text": [
      "Validation acc: 0.9388\n",
      "Time taken: 7804.12s\n",
      "Training acc over epoch: 0.0402\n",
      "Training loss (for one batch) at step 60000: 20.3172\n",
      "Seen so far: 3840064 samples\n"
     ]
    },
    {
     "name": "stderr",
     "output_type": "stream",
     "text": [
      "100%|██████████| 188/188 [00:18<00:00,  9.91it/s]\n"
     ]
    },
    {
     "name": "stdout",
     "output_type": "stream",
     "text": [
      "Validation acc: 0.9488\n",
      "Time taken: 8508.77s\n",
      "Training acc over epoch: 0.0411\n",
      "Training loss (for one batch) at step 65000: 19.0058\n",
      "Seen so far: 4160064 samples\n"
     ]
    },
    {
     "name": "stderr",
     "output_type": "stream",
     "text": [
      "100%|██████████| 188/188 [00:18<00:00,  9.97it/s]\n"
     ]
    },
    {
     "name": "stdout",
     "output_type": "stream",
     "text": [
      "Validation acc: 0.9232\n",
      "Time taken: 9209.50s\n",
      "Training acc over epoch: 0.0420\n",
      "Training loss (for one batch) at step 70000: 18.9306\n",
      "Seen so far: 4480064 samples\n"
     ]
    },
    {
     "name": "stderr",
     "output_type": "stream",
     "text": [
      "100%|██████████| 188/188 [00:18<00:00, 10.05it/s]\n"
     ]
    },
    {
     "name": "stdout",
     "output_type": "stream",
     "text": [
      "Validation acc: 0.9353\n",
      "Time taken: 9914.37s\n",
      "Training acc over epoch: 0.0431\n",
      "Training loss (for one batch) at step 75000: 21.0873\n",
      "Seen so far: 4800064 samples\n"
     ]
    },
    {
     "name": "stderr",
     "output_type": "stream",
     "text": [
      "100%|██████████| 188/188 [00:18<00:00, 10.20it/s]\n"
     ]
    },
    {
     "name": "stdout",
     "output_type": "stream",
     "text": [
      "Validation acc: 0.9220\n",
      "Time taken: 10620.97s\n",
      "Training acc over epoch: 0.0449\n",
      "Training loss (for one batch) at step 80000: 22.4214\n",
      "Seen so far: 5120064 samples\n"
     ]
    },
    {
     "name": "stderr",
     "output_type": "stream",
     "text": [
      "100%|██████████| 188/188 [00:18<00:00, 10.26it/s]\n"
     ]
    },
    {
     "name": "stdout",
     "output_type": "stream",
     "text": [
      "Validation acc: 0.9277\n",
      "Time taken: 11321.72s\n",
      "Training acc over epoch: 0.0462\n",
      "Training loss (for one batch) at step 85000: 16.8803\n",
      "Seen so far: 5440064 samples\n"
     ]
    },
    {
     "name": "stderr",
     "output_type": "stream",
     "text": [
      "100%|██████████| 188/188 [00:17<00:00, 10.45it/s]\n"
     ]
    },
    {
     "name": "stdout",
     "output_type": "stream",
     "text": [
      "Validation acc: 0.9293\n",
      "Time taken: 12022.76s\n",
      "Training acc over epoch: 0.0474\n",
      "Training loss (for one batch) at step 90000: 19.2082\n",
      "Seen so far: 5760064 samples\n"
     ]
    },
    {
     "name": "stderr",
     "output_type": "stream",
     "text": [
      "100%|██████████| 188/188 [00:18<00:00, 10.16it/s]\n"
     ]
    },
    {
     "name": "stdout",
     "output_type": "stream",
     "text": [
      "Validation acc: 0.9150\n",
      "Time taken: 12722.12s\n",
      "Training acc over epoch: 0.0487\n",
      "======================================================\n",
      "================= Start of epoch 4 ==================\n",
      "======================================================\n",
      "Training loss (for one batch) at step 0: 19.2076\n",
      "Seen so far: 64 samples\n"
     ]
    },
    {
     "name": "stderr",
     "output_type": "stream",
     "text": [
      "100%|██████████| 188/188 [00:18<00:00, 10.01it/s]\n"
     ]
    },
    {
     "name": "stdout",
     "output_type": "stream",
     "text": [
      "Validation acc: 0.9135\n",
      "Time taken: 29.52s\n",
      "Training acc over epoch: 0.0486\n",
      "Training loss (for one batch) at step 5000: 19.5405\n",
      "Seen so far: 320064 samples\n"
     ]
    },
    {
     "name": "stderr",
     "output_type": "stream",
     "text": [
      "100%|██████████| 188/188 [00:18<00:00, 10.15it/s]\n"
     ]
    },
    {
     "name": "stdout",
     "output_type": "stream",
     "text": [
      "Validation acc: 0.9030\n",
      "Time taken: 731.39s\n",
      "Training acc over epoch: 0.0495\n",
      "Training loss (for one batch) at step 10000: 19.1154\n",
      "Seen so far: 640064 samples\n"
     ]
    },
    {
     "name": "stderr",
     "output_type": "stream",
     "text": [
      "100%|██████████| 188/188 [00:18<00:00, 10.21it/s]\n"
     ]
    },
    {
     "name": "stdout",
     "output_type": "stream",
     "text": [
      "Validation acc: 0.8805\n",
      "Time taken: 1429.57s\n",
      "Training acc over epoch: 0.0523\n",
      "Training loss (for one batch) at step 15000: 18.4961\n",
      "Seen so far: 960064 samples\n"
     ]
    },
    {
     "name": "stderr",
     "output_type": "stream",
     "text": [
      "100%|██████████| 188/188 [00:18<00:00, 10.17it/s]\n"
     ]
    },
    {
     "name": "stdout",
     "output_type": "stream",
     "text": [
      "Validation acc: 0.8675\n",
      "Time taken: 2129.45s\n",
      "Training acc over epoch: 0.0538\n",
      "Training loss (for one batch) at step 20000: 20.4063\n",
      "Seen so far: 1280064 samples\n"
     ]
    },
    {
     "name": "stderr",
     "output_type": "stream",
     "text": [
      "100%|██████████| 188/188 [00:18<00:00, 10.15it/s]\n"
     ]
    },
    {
     "name": "stdout",
     "output_type": "stream",
     "text": [
      "Validation acc: 0.8870\n",
      "Time taken: 2827.46s\n",
      "Training acc over epoch: 0.0556\n",
      "Training loss (for one batch) at step 25000: 18.7115\n",
      "Seen so far: 1600064 samples\n"
     ]
    },
    {
     "name": "stderr",
     "output_type": "stream",
     "text": [
      "100%|██████████| 188/188 [00:18<00:00, 10.11it/s]\n"
     ]
    },
    {
     "name": "stdout",
     "output_type": "stream",
     "text": [
      "Validation acc: 0.8785\n",
      "Time taken: 3524.57s\n",
      "Training acc over epoch: 0.0597\n",
      "Training loss (for one batch) at step 30000: 20.0924\n",
      "Seen so far: 1920064 samples\n"
     ]
    },
    {
     "name": "stderr",
     "output_type": "stream",
     "text": [
      "100%|██████████| 188/188 [00:18<00:00, 10.31it/s]\n"
     ]
    },
    {
     "name": "stdout",
     "output_type": "stream",
     "text": [
      "Validation acc: 0.8633\n",
      "Time taken: 4223.83s\n",
      "Training acc over epoch: 0.0550\n",
      "Training loss (for one batch) at step 35000: 20.8436\n",
      "Seen so far: 2240064 samples\n"
     ]
    },
    {
     "name": "stderr",
     "output_type": "stream",
     "text": [
      "100%|██████████| 188/188 [00:18<00:00, 10.24it/s]\n"
     ]
    },
    {
     "name": "stdout",
     "output_type": "stream",
     "text": [
      "Validation acc: 0.8673\n",
      "Time taken: 4919.35s\n",
      "Training acc over epoch: 0.0511\n",
      "Training loss (for one batch) at step 40000: 20.4212\n",
      "Seen so far: 2560064 samples\n"
     ]
    },
    {
     "name": "stderr",
     "output_type": "stream",
     "text": [
      "100%|██████████| 188/188 [00:18<00:00,  9.93it/s]\n"
     ]
    },
    {
     "name": "stdout",
     "output_type": "stream",
     "text": [
      "Validation acc: 0.8683\n",
      "Time taken: 5615.53s\n",
      "Training acc over epoch: 0.0520\n",
      "Training loss (for one batch) at step 45000: 19.2706\n",
      "Seen so far: 2880064 samples\n"
     ]
    },
    {
     "name": "stderr",
     "output_type": "stream",
     "text": [
      "100%|██████████| 188/188 [00:19<00:00,  9.62it/s]\n"
     ]
    },
    {
     "name": "stdout",
     "output_type": "stream",
     "text": [
      "Validation acc: 0.8830\n",
      "Time taken: 6316.70s\n",
      "Training acc over epoch: 0.0529\n",
      "Training loss (for one batch) at step 50000: 17.9416\n",
      "Seen so far: 3200064 samples\n"
     ]
    },
    {
     "name": "stderr",
     "output_type": "stream",
     "text": [
      "100%|██████████| 188/188 [00:18<00:00, 10.17it/s]\n"
     ]
    },
    {
     "name": "stdout",
     "output_type": "stream",
     "text": [
      "Validation acc: 0.8697\n",
      "Time taken: 7014.16s\n",
      "Training acc over epoch: 0.0533\n",
      "Training loss (for one batch) at step 55000: 17.6803\n",
      "Seen so far: 3520064 samples\n"
     ]
    },
    {
     "name": "stderr",
     "output_type": "stream",
     "text": [
      "100%|██████████| 188/188 [00:19<00:00,  9.85it/s]\n"
     ]
    },
    {
     "name": "stdout",
     "output_type": "stream",
     "text": [
      "Validation acc: 0.8727\n",
      "Time taken: 7710.04s\n",
      "Training acc over epoch: 0.0546\n",
      "Training loss (for one batch) at step 60000: 18.9944\n",
      "Seen so far: 3840064 samples\n"
     ]
    },
    {
     "name": "stderr",
     "output_type": "stream",
     "text": [
      "100%|██████████| 188/188 [00:18<00:00,  9.96it/s]\n"
     ]
    },
    {
     "name": "stdout",
     "output_type": "stream",
     "text": [
      "Validation acc: 0.8973\n",
      "Time taken: 8410.49s\n",
      "Training acc over epoch: 0.0558\n",
      "Training loss (for one batch) at step 65000: 17.7015\n",
      "Seen so far: 4160064 samples\n"
     ]
    },
    {
     "name": "stderr",
     "output_type": "stream",
     "text": [
      "100%|██████████| 188/188 [00:18<00:00, 10.17it/s]\n"
     ]
    },
    {
     "name": "stdout",
     "output_type": "stream",
     "text": [
      "Validation acc: 0.8560\n",
      "Time taken: 9109.40s\n",
      "Training acc over epoch: 0.0563\n",
      "Training loss (for one batch) at step 70000: 17.3816\n",
      "Seen so far: 4480064 samples\n"
     ]
    },
    {
     "name": "stderr",
     "output_type": "stream",
     "text": [
      "100%|██████████| 188/188 [00:18<00:00, 10.17it/s]\n"
     ]
    },
    {
     "name": "stdout",
     "output_type": "stream",
     "text": [
      "Validation acc: 0.8567\n",
      "Time taken: 9812.51s\n",
      "Training acc over epoch: 0.0573\n",
      "Training loss (for one batch) at step 75000: 19.8371\n",
      "Seen so far: 4800064 samples\n"
     ]
    },
    {
     "name": "stderr",
     "output_type": "stream",
     "text": [
      "100%|██████████| 188/188 [00:18<00:00, 10.15it/s]\n"
     ]
    },
    {
     "name": "stdout",
     "output_type": "stream",
     "text": [
      "Validation acc: 0.8572\n",
      "Time taken: 10517.83s\n",
      "Training acc over epoch: 0.0593\n",
      "Training loss (for one batch) at step 80000: 21.1550\n",
      "Seen so far: 5120064 samples\n"
     ]
    },
    {
     "name": "stderr",
     "output_type": "stream",
     "text": [
      "100%|██████████| 188/188 [00:18<00:00, 10.09it/s]\n"
     ]
    },
    {
     "name": "stdout",
     "output_type": "stream",
     "text": [
      "Validation acc: 0.8438\n",
      "Time taken: 11229.57s\n",
      "Training acc over epoch: 0.0600\n",
      "Training loss (for one batch) at step 85000: 15.7859\n",
      "Seen so far: 5440064 samples\n"
     ]
    },
    {
     "name": "stderr",
     "output_type": "stream",
     "text": [
      "100%|██████████| 188/188 [00:19<00:00,  9.60it/s]\n"
     ]
    },
    {
     "name": "stdout",
     "output_type": "stream",
     "text": [
      "Validation acc: 0.8485\n",
      "Time taken: 11944.42s\n",
      "Training acc over epoch: 0.0617\n",
      "Training loss (for one batch) at step 90000: 17.5944\n",
      "Seen so far: 5760064 samples\n"
     ]
    },
    {
     "name": "stderr",
     "output_type": "stream",
     "text": [
      "100%|██████████| 188/188 [00:18<00:00,  9.90it/s]\n"
     ]
    },
    {
     "name": "stdout",
     "output_type": "stream",
     "text": [
      "Validation acc: 0.8293\n",
      "Time taken: 12658.24s\n",
      "Training acc over epoch: 0.0624\n",
      "======================================================\n",
      "================= Start of epoch 5 ==================\n",
      "======================================================\n",
      "Training loss (for one batch) at step 0: 18.1923\n",
      "Seen so far: 64 samples\n"
     ]
    },
    {
     "name": "stderr",
     "output_type": "stream",
     "text": [
      "100%|██████████| 188/188 [00:18<00:00, 10.13it/s]\n"
     ]
    },
    {
     "name": "stdout",
     "output_type": "stream",
     "text": [
      "Validation acc: 0.8525\n",
      "Time taken: 28.95s\n",
      "Training acc over epoch: 0.0627\n",
      "Training loss (for one batch) at step 5000: 18.1395\n",
      "Seen so far: 320064 samples\n"
     ]
    },
    {
     "name": "stderr",
     "output_type": "stream",
     "text": [
      "100%|██████████| 188/188 [00:19<00:00,  9.51it/s]\n"
     ]
    },
    {
     "name": "stdout",
     "output_type": "stream",
     "text": [
      "Validation acc: 0.8355\n",
      "Time taken: 745.10s\n",
      "Training acc over epoch: 0.0633\n",
      "Training loss (for one batch) at step 10000: 17.9391\n",
      "Seen so far: 640064 samples\n"
     ]
    },
    {
     "name": "stderr",
     "output_type": "stream",
     "text": [
      "100%|██████████| 188/188 [00:19<00:00,  9.49it/s]\n"
     ]
    },
    {
     "name": "stdout",
     "output_type": "stream",
     "text": [
      "Validation acc: 0.8033\n",
      "Time taken: 1466.75s\n",
      "Training acc over epoch: 0.0661\n",
      "Training loss (for one batch) at step 15000: 17.4669\n",
      "Seen so far: 960064 samples\n"
     ]
    },
    {
     "name": "stderr",
     "output_type": "stream",
     "text": [
      "100%|██████████| 188/188 [00:18<00:00,  9.91it/s]\n"
     ]
    },
    {
     "name": "stdout",
     "output_type": "stream",
     "text": [
      "Validation acc: 0.8182\n",
      "Time taken: 2186.30s\n",
      "Training acc over epoch: 0.0678\n",
      "Training loss (for one batch) at step 20000: 19.2513\n",
      "Seen so far: 1280064 samples\n"
     ]
    },
    {
     "name": "stderr",
     "output_type": "stream",
     "text": [
      "100%|██████████| 188/188 [00:19<00:00,  9.87it/s]\n"
     ]
    },
    {
     "name": "stdout",
     "output_type": "stream",
     "text": [
      "Validation acc: 0.8222\n",
      "Time taken: 2910.64s\n",
      "Training acc over epoch: 0.0692\n",
      "Training loss (for one batch) at step 25000: 18.0390\n",
      "Seen so far: 1600064 samples\n"
     ]
    },
    {
     "name": "stderr",
     "output_type": "stream",
     "text": [
      "100%|██████████| 188/188 [00:19<00:00,  9.68it/s]\n"
     ]
    },
    {
     "name": "stdout",
     "output_type": "stream",
     "text": [
      "Validation acc: 0.8225\n",
      "Time taken: 3618.32s\n",
      "Training acc over epoch: 0.0732\n",
      "Training loss (for one batch) at step 30000: 18.9208\n",
      "Seen so far: 1920064 samples\n"
     ]
    },
    {
     "name": "stderr",
     "output_type": "stream",
     "text": [
      "100%|██████████| 188/188 [00:19<00:00,  9.61it/s]\n"
     ]
    },
    {
     "name": "stdout",
     "output_type": "stream",
     "text": [
      "Validation acc: 0.8082\n",
      "Time taken: 4323.64s\n",
      "Training acc over epoch: 0.0684\n",
      "Training loss (for one batch) at step 35000: 19.7276\n",
      "Seen so far: 2240064 samples\n"
     ]
    },
    {
     "name": "stderr",
     "output_type": "stream",
     "text": [
      "100%|██████████| 188/188 [00:19<00:00,  9.65it/s]\n"
     ]
    },
    {
     "name": "stdout",
     "output_type": "stream",
     "text": [
      "Validation acc: 0.8115\n",
      "Time taken: 5038.86s\n",
      "Training acc over epoch: 0.0643\n",
      "Training loss (for one batch) at step 40000: 18.8579\n",
      "Seen so far: 2560064 samples\n"
     ]
    },
    {
     "name": "stderr",
     "output_type": "stream",
     "text": [
      "100%|██████████| 188/188 [00:19<00:00,  9.89it/s]\n"
     ]
    },
    {
     "name": "stdout",
     "output_type": "stream",
     "text": [
      "Validation acc: 0.8143\n",
      "Time taken: 5755.00s\n",
      "Training acc over epoch: 0.0662\n",
      "Training loss (for one batch) at step 45000: 18.2526\n",
      "Seen so far: 2880064 samples\n"
     ]
    },
    {
     "name": "stderr",
     "output_type": "stream",
     "text": [
      "100%|██████████| 188/188 [00:18<00:00, 10.36it/s]\n"
     ]
    },
    {
     "name": "stdout",
     "output_type": "stream",
     "text": [
      "Validation acc: 0.8465\n",
      "Time taken: 6464.80s\n",
      "Training acc over epoch: 0.0666\n",
      "Training loss (for one batch) at step 50000: 16.7286\n",
      "Seen so far: 3200064 samples\n"
     ]
    },
    {
     "name": "stderr",
     "output_type": "stream",
     "text": [
      "100%|██████████| 188/188 [00:18<00:00, 10.14it/s]\n"
     ]
    },
    {
     "name": "stdout",
     "output_type": "stream",
     "text": [
      "Validation acc: 0.8128\n",
      "Time taken: 7170.51s\n",
      "Training acc over epoch: 0.0674\n",
      "Training loss (for one batch) at step 55000: 16.6853\n",
      "Seen so far: 3520064 samples\n"
     ]
    },
    {
     "name": "stderr",
     "output_type": "stream",
     "text": [
      "100%|██████████| 188/188 [00:18<00:00, 10.19it/s]\n"
     ]
    },
    {
     "name": "stdout",
     "output_type": "stream",
     "text": [
      "Validation acc: 0.8170\n",
      "Time taken: 7880.94s\n",
      "Training acc over epoch: 0.0686\n",
      "Training loss (for one batch) at step 60000: 17.6859\n",
      "Seen so far: 3840064 samples\n"
     ]
    },
    {
     "name": "stderr",
     "output_type": "stream",
     "text": [
      "100%|██████████| 188/188 [00:19<00:00,  9.75it/s]\n"
     ]
    },
    {
     "name": "stdout",
     "output_type": "stream",
     "text": [
      "Validation acc: 0.8098\n",
      "Time taken: 8590.14s\n",
      "Training acc over epoch: 0.0698\n",
      "Training loss (for one batch) at step 65000: 16.7110\n",
      "Seen so far: 4160064 samples\n"
     ]
    },
    {
     "name": "stderr",
     "output_type": "stream",
     "text": [
      "100%|██████████| 188/188 [00:18<00:00, 10.06it/s]\n"
     ]
    },
    {
     "name": "stdout",
     "output_type": "stream",
     "text": [
      "Validation acc: 0.7915\n",
      "Time taken: 9302.41s\n",
      "Training acc over epoch: 0.0706\n",
      "Training loss (for one batch) at step 70000: 16.1826\n",
      "Seen so far: 4480064 samples\n"
     ]
    },
    {
     "name": "stderr",
     "output_type": "stream",
     "text": [
      "100%|██████████| 188/188 [00:19<00:00,  9.84it/s]\n"
     ]
    },
    {
     "name": "stdout",
     "output_type": "stream",
     "text": [
      "Validation acc: 0.8227\n",
      "Time taken: 10011.75s\n",
      "Training acc over epoch: 0.0717\n",
      "Training loss (for one batch) at step 75000: 18.7863\n",
      "Seen so far: 4800064 samples\n"
     ]
    },
    {
     "name": "stderr",
     "output_type": "stream",
     "text": [
      "100%|██████████| 188/188 [00:19<00:00,  9.72it/s]\n"
     ]
    },
    {
     "name": "stdout",
     "output_type": "stream",
     "text": [
      "Validation acc: 0.8002\n",
      "Time taken: 10719.39s\n",
      "Training acc over epoch: 0.0739\n",
      "Training loss (for one batch) at step 80000: 20.2413\n",
      "Seen so far: 5120064 samples\n"
     ]
    },
    {
     "name": "stderr",
     "output_type": "stream",
     "text": [
      "100%|██████████| 188/188 [00:18<00:00, 10.10it/s]\n"
     ]
    },
    {
     "name": "stdout",
     "output_type": "stream",
     "text": [
      "Validation acc: 0.8002\n",
      "Time taken: 11431.25s\n",
      "Training acc over epoch: 0.0747\n",
      "Training loss (for one batch) at step 85000: 14.7655\n",
      "Seen so far: 5440064 samples\n"
     ]
    },
    {
     "name": "stderr",
     "output_type": "stream",
     "text": [
      "100%|██████████| 188/188 [00:19<00:00,  9.88it/s]\n"
     ]
    },
    {
     "name": "stdout",
     "output_type": "stream",
     "text": [
      "Validation acc: 0.8013\n",
      "Time taken: 12138.05s\n",
      "Training acc over epoch: 0.0756\n",
      "Training loss (for one batch) at step 90000: 16.6590\n",
      "Seen so far: 5760064 samples\n"
     ]
    },
    {
     "name": "stderr",
     "output_type": "stream",
     "text": [
      "100%|██████████| 188/188 [00:18<00:00, 10.26it/s]\n"
     ]
    },
    {
     "name": "stdout",
     "output_type": "stream",
     "text": [
      "Validation acc: 0.7852\n",
      "Time taken: 12841.26s\n",
      "Training acc over epoch: 0.0772\n",
      "======================================================\n",
      "================= Start of epoch 6 ==================\n",
      "======================================================\n",
      "Training loss (for one batch) at step 0: 17.3441\n",
      "Seen so far: 64 samples\n"
     ]
    },
    {
     "name": "stderr",
     "output_type": "stream",
     "text": [
      "100%|██████████| 188/188 [00:18<00:00, 10.10it/s]\n"
     ]
    },
    {
     "name": "stdout",
     "output_type": "stream",
     "text": [
      "Validation acc: 0.7922\n",
      "Time taken: 28.59s\n",
      "Training acc over epoch: 0.0763\n",
      "Training loss (for one batch) at step 5000: 17.3900\n",
      "Seen so far: 320064 samples\n"
     ]
    },
    {
     "name": "stderr",
     "output_type": "stream",
     "text": [
      "100%|██████████| 188/188 [00:18<00:00, 10.15it/s]\n"
     ]
    },
    {
     "name": "stdout",
     "output_type": "stream",
     "text": [
      "Validation acc: 0.7772\n",
      "Time taken: 732.45s\n",
      "Training acc over epoch: 0.0774\n",
      "Training loss (for one batch) at step 10000: 17.2087\n",
      "Seen so far: 640064 samples\n"
     ]
    },
    {
     "name": "stderr",
     "output_type": "stream",
     "text": [
      "100%|██████████| 188/188 [00:18<00:00, 10.18it/s]\n"
     ]
    },
    {
     "name": "stdout",
     "output_type": "stream",
     "text": [
      "Validation acc: 0.7632\n",
      "Time taken: 1439.67s\n",
      "Training acc over epoch: 0.0806\n",
      "Training loss (for one batch) at step 15000: 16.5684\n",
      "Seen so far: 960064 samples\n"
     ]
    },
    {
     "name": "stderr",
     "output_type": "stream",
     "text": [
      "100%|██████████| 188/188 [00:19<00:00,  9.83it/s]\n"
     ]
    },
    {
     "name": "stdout",
     "output_type": "stream",
     "text": [
      "Validation acc: 0.7802\n",
      "Time taken: 2157.71s\n",
      "Training acc over epoch: 0.0823\n",
      "Training loss (for one batch) at step 20000: 18.5802\n",
      "Seen so far: 1280064 samples\n"
     ]
    },
    {
     "name": "stderr",
     "output_type": "stream",
     "text": [
      "100%|██████████| 188/188 [00:19<00:00,  9.61it/s]\n"
     ]
    },
    {
     "name": "stdout",
     "output_type": "stream",
     "text": [
      "Validation acc: 0.7877\n",
      "Time taken: 2877.73s\n",
      "Training acc over epoch: 0.0840\n",
      "Training loss (for one batch) at step 25000: 16.4690\n",
      "Seen so far: 1600064 samples\n"
     ]
    },
    {
     "name": "stderr",
     "output_type": "stream",
     "text": [
      "100%|██████████| 188/188 [00:18<00:00, 10.00it/s]\n"
     ]
    },
    {
     "name": "stdout",
     "output_type": "stream",
     "text": [
      "Validation acc: 0.7773\n",
      "Time taken: 3581.54s\n",
      "Training acc over epoch: 0.0876\n",
      "Training loss (for one batch) at step 30000: 17.9489\n",
      "Seen so far: 1920064 samples\n"
     ]
    },
    {
     "name": "stderr",
     "output_type": "stream",
     "text": [
      "100%|██████████| 188/188 [00:18<00:00, 10.19it/s]\n"
     ]
    },
    {
     "name": "stdout",
     "output_type": "stream",
     "text": [
      "Validation acc: 0.7938\n",
      "Time taken: 4283.61s\n",
      "Training acc over epoch: 0.0830\n",
      "Training loss (for one batch) at step 35000: 19.0192\n",
      "Seen so far: 2240064 samples\n"
     ]
    },
    {
     "name": "stderr",
     "output_type": "stream",
     "text": [
      "100%|██████████| 188/188 [00:18<00:00, 10.27it/s]\n"
     ]
    },
    {
     "name": "stdout",
     "output_type": "stream",
     "text": [
      "Validation acc: 0.8017\n",
      "Time taken: 4985.90s\n",
      "Training acc over epoch: 0.0798\n",
      "Training loss (for one batch) at step 40000: 17.7520\n",
      "Seen so far: 2560064 samples\n"
     ]
    },
    {
     "name": "stderr",
     "output_type": "stream",
     "text": [
      "100%|██████████| 188/188 [00:18<00:00, 10.13it/s]\n"
     ]
    },
    {
     "name": "stdout",
     "output_type": "stream",
     "text": [
      "Validation acc: 0.7827\n",
      "Time taken: 5691.13s\n",
      "Training acc over epoch: 0.0810\n",
      "Training loss (for one batch) at step 45000: 17.4894\n",
      "Seen so far: 2880064 samples\n"
     ]
    },
    {
     "name": "stderr",
     "output_type": "stream",
     "text": [
      "100%|██████████| 188/188 [00:18<00:00, 10.11it/s]\n"
     ]
    },
    {
     "name": "stdout",
     "output_type": "stream",
     "text": [
      "Validation acc: 0.8097\n",
      "Time taken: 6395.37s\n",
      "Training acc over epoch: 0.0819\n",
      "Training loss (for one batch) at step 50000: 15.7360\n",
      "Seen so far: 3200064 samples\n"
     ]
    },
    {
     "name": "stderr",
     "output_type": "stream",
     "text": [
      "100%|██████████| 188/188 [00:18<00:00, 10.27it/s]\n"
     ]
    },
    {
     "name": "stdout",
     "output_type": "stream",
     "text": [
      "Validation acc: 0.8002\n",
      "Time taken: 7095.15s\n",
      "Training acc over epoch: 0.0824\n",
      "Training loss (for one batch) at step 55000: 15.2275\n",
      "Seen so far: 3520064 samples\n"
     ]
    },
    {
     "name": "stderr",
     "output_type": "stream",
     "text": [
      "100%|██████████| 188/188 [00:18<00:00, 10.17it/s]\n"
     ]
    },
    {
     "name": "stdout",
     "output_type": "stream",
     "text": [
      "Validation acc: 0.7808\n",
      "Time taken: 7803.37s\n",
      "Training acc over epoch: 0.0838\n",
      "Training loss (for one batch) at step 60000: 16.9115\n",
      "Seen so far: 3840064 samples\n"
     ]
    },
    {
     "name": "stderr",
     "output_type": "stream",
     "text": [
      "100%|██████████| 188/188 [00:18<00:00, 10.27it/s]\n"
     ]
    },
    {
     "name": "stdout",
     "output_type": "stream",
     "text": [
      "Validation acc: 0.7795\n",
      "Time taken: 8506.20s\n",
      "Training acc over epoch: 0.0875\n",
      "Training loss (for one batch) at step 65000: 15.6303\n",
      "Seen so far: 4160064 samples\n"
     ]
    },
    {
     "name": "stderr",
     "output_type": "stream",
     "text": [
      "100%|██████████| 188/188 [00:18<00:00, 10.16it/s]\n"
     ]
    },
    {
     "name": "stdout",
     "output_type": "stream",
     "text": [
      "Validation acc: 0.7638\n",
      "Time taken: 9208.53s\n",
      "Training acc over epoch: 0.0888\n",
      "Training loss (for one batch) at step 70000: 15.7068\n",
      "Seen so far: 4480064 samples\n"
     ]
    },
    {
     "name": "stderr",
     "output_type": "stream",
     "text": [
      "100%|██████████| 188/188 [00:19<00:00,  9.59it/s]\n"
     ]
    },
    {
     "name": "stdout",
     "output_type": "stream",
     "text": [
      "Validation acc: 0.7875\n",
      "Time taken: 9921.52s\n",
      "Training acc over epoch: 0.0893\n",
      "Training loss (for one batch) at step 75000: 17.3404\n",
      "Seen so far: 4800064 samples\n"
     ]
    },
    {
     "name": "stderr",
     "output_type": "stream",
     "text": [
      "100%|██████████| 188/188 [00:18<00:00,  9.99it/s]\n"
     ]
    },
    {
     "name": "stdout",
     "output_type": "stream",
     "text": [
      "Validation acc: 0.7825\n",
      "Time taken: 10636.29s\n",
      "Training acc over epoch: 0.0909\n",
      "Training loss (for one batch) at step 80000: 19.0193\n",
      "Seen so far: 5120064 samples\n"
     ]
    },
    {
     "name": "stderr",
     "output_type": "stream",
     "text": [
      "100%|██████████| 188/188 [00:19<00:00,  9.43it/s]\n"
     ]
    },
    {
     "name": "stdout",
     "output_type": "stream",
     "text": [
      "Validation acc: 0.7867\n",
      "Time taken: 11350.56s\n",
      "Training acc over epoch: 0.0918\n",
      "Training loss (for one batch) at step 85000: 14.0248\n",
      "Seen so far: 5440064 samples\n"
     ]
    },
    {
     "name": "stderr",
     "output_type": "stream",
     "text": [
      "100%|██████████| 188/188 [00:18<00:00, 10.20it/s]\n"
     ]
    },
    {
     "name": "stdout",
     "output_type": "stream",
     "text": [
      "Validation acc: 0.7798\n",
      "Time taken: 12059.19s\n",
      "Training acc over epoch: 0.0922\n",
      "Training loss (for one batch) at step 90000: 15.6137\n",
      "Seen so far: 5760064 samples\n"
     ]
    },
    {
     "name": "stderr",
     "output_type": "stream",
     "text": [
      "100%|██████████| 188/188 [00:18<00:00, 10.16it/s]\n"
     ]
    },
    {
     "name": "stdout",
     "output_type": "stream",
     "text": [
      "Validation acc: 0.7735\n",
      "Time taken: 12766.84s\n",
      "Training acc over epoch: 0.0937\n",
      "======================================================\n",
      "================= Start of epoch 7 ==================\n",
      "======================================================\n",
      "Training loss (for one batch) at step 0: 16.2174\n",
      "Seen so far: 64 samples\n"
     ]
    },
    {
     "name": "stderr",
     "output_type": "stream",
     "text": [
      "100%|██████████| 188/188 [00:18<00:00,  9.90it/s]\n"
     ]
    },
    {
     "name": "stdout",
     "output_type": "stream",
     "text": [
      "Validation acc: 0.7720\n",
      "Time taken: 29.29s\n",
      "Training acc over epoch: 0.0918\n",
      "Training loss (for one batch) at step 5000: 16.3031\n",
      "Seen so far: 320064 samples\n"
     ]
    },
    {
     "name": "stderr",
     "output_type": "stream",
     "text": [
      "100%|██████████| 188/188 [00:18<00:00, 10.02it/s]\n"
     ]
    },
    {
     "name": "stdout",
     "output_type": "stream",
     "text": [
      "Validation acc: 0.7895\n",
      "Time taken: 742.09s\n",
      "Training acc over epoch: 0.0936\n",
      "Training loss (for one batch) at step 10000: 16.2241\n",
      "Seen so far: 640064 samples\n"
     ]
    },
    {
     "name": "stderr",
     "output_type": "stream",
     "text": [
      "100%|██████████| 188/188 [00:18<00:00, 10.16it/s]\n"
     ]
    },
    {
     "name": "stdout",
     "output_type": "stream",
     "text": [
      "Validation acc: 0.8022\n",
      "Time taken: 1458.52s\n",
      "Training acc over epoch: 0.0964\n",
      "Training loss (for one batch) at step 15000: 15.7467\n",
      "Seen so far: 960064 samples\n"
     ]
    },
    {
     "name": "stderr",
     "output_type": "stream",
     "text": [
      "100%|██████████| 188/188 [00:18<00:00, 10.14it/s]\n"
     ]
    },
    {
     "name": "stdout",
     "output_type": "stream",
     "text": [
      "Validation acc: 0.7753\n",
      "Time taken: 2176.68s\n",
      "Training acc over epoch: 0.0981\n",
      "Training loss (for one batch) at step 20000: 18.1607\n",
      "Seen so far: 1280064 samples\n"
     ]
    },
    {
     "name": "stderr",
     "output_type": "stream",
     "text": [
      "100%|██████████| 188/188 [00:18<00:00, 10.22it/s]\n"
     ]
    },
    {
     "name": "stdout",
     "output_type": "stream",
     "text": [
      "Validation acc: 0.7698\n",
      "Time taken: 2890.36s\n",
      "Training acc over epoch: 0.0987\n",
      "Training loss (for one batch) at step 25000: 15.9813\n",
      "Seen so far: 1600064 samples\n"
     ]
    },
    {
     "name": "stderr",
     "output_type": "stream",
     "text": [
      "100%|██████████| 188/188 [00:18<00:00, 10.15it/s]\n"
     ]
    },
    {
     "name": "stdout",
     "output_type": "stream",
     "text": [
      "Validation acc: 0.7607\n",
      "Time taken: 3601.23s\n",
      "Training acc over epoch: 0.1025\n",
      "Training loss (for one batch) at step 30000: 17.3096\n",
      "Seen so far: 1920064 samples\n"
     ]
    },
    {
     "name": "stderr",
     "output_type": "stream",
     "text": [
      "100%|██████████| 188/188 [00:19<00:00,  9.85it/s]\n"
     ]
    },
    {
     "name": "stdout",
     "output_type": "stream",
     "text": [
      "Validation acc: 0.7632\n",
      "Time taken: 4314.66s\n",
      "Training acc over epoch: 0.0978\n",
      "Training loss (for one batch) at step 35000: 17.4403\n",
      "Seen so far: 2240064 samples\n"
     ]
    },
    {
     "name": "stderr",
     "output_type": "stream",
     "text": [
      "100%|██████████| 188/188 [00:19<00:00,  9.80it/s]\n"
     ]
    },
    {
     "name": "stdout",
     "output_type": "stream",
     "text": [
      "Validation acc: 0.7760\n",
      "Time taken: 5027.91s\n",
      "Training acc over epoch: 0.0939\n",
      "Training loss (for one batch) at step 40000: 17.1908\n",
      "Seen so far: 2560064 samples\n"
     ]
    },
    {
     "name": "stderr",
     "output_type": "stream",
     "text": [
      "100%|██████████| 188/188 [00:18<00:00, 10.13it/s]\n"
     ]
    },
    {
     "name": "stdout",
     "output_type": "stream",
     "text": [
      "Validation acc: 0.7740\n",
      "Time taken: 5735.11s\n",
      "Training acc over epoch: 0.0949\n",
      "Training loss (for one batch) at step 45000: 16.3644\n",
      "Seen so far: 2880064 samples\n"
     ]
    },
    {
     "name": "stderr",
     "output_type": "stream",
     "text": [
      "100%|██████████| 188/188 [00:18<00:00, 10.20it/s]\n"
     ]
    },
    {
     "name": "stdout",
     "output_type": "stream",
     "text": [
      "Validation acc: 0.7708\n",
      "Time taken: 6445.37s\n",
      "Training acc over epoch: 0.0958\n",
      "Training loss (for one batch) at step 50000: 14.7732\n",
      "Seen so far: 3200064 samples\n"
     ]
    },
    {
     "name": "stderr",
     "output_type": "stream",
     "text": [
      "100%|██████████| 188/188 [00:18<00:00, 10.19it/s]\n"
     ]
    },
    {
     "name": "stdout",
     "output_type": "stream",
     "text": [
      "Validation acc: 0.7882\n",
      "Time taken: 7153.18s\n",
      "Training acc over epoch: 0.0959\n",
      "Training loss (for one batch) at step 55000: 15.2511\n",
      "Seen so far: 3520064 samples\n"
     ]
    },
    {
     "name": "stderr",
     "output_type": "stream",
     "text": [
      "100%|██████████| 188/188 [00:18<00:00, 10.00it/s]\n"
     ]
    },
    {
     "name": "stdout",
     "output_type": "stream",
     "text": [
      "Validation acc: 0.7710\n",
      "Time taken: 7861.01s\n",
      "Training acc over epoch: 0.0966\n",
      "Training loss (for one batch) at step 60000: 16.8736\n",
      "Seen so far: 3840064 samples\n"
     ]
    },
    {
     "name": "stderr",
     "output_type": "stream",
     "text": [
      "100%|██████████| 188/188 [00:18<00:00, 10.20it/s]\n"
     ]
    },
    {
     "name": "stdout",
     "output_type": "stream",
     "text": [
      "Validation acc: 0.7772\n",
      "Time taken: 8562.32s\n",
      "Training acc over epoch: 0.0928\n",
      "Training loss (for one batch) at step 65000: 15.2798\n",
      "Seen so far: 4160064 samples\n"
     ]
    },
    {
     "name": "stderr",
     "output_type": "stream",
     "text": [
      "100%|██████████| 188/188 [00:18<00:00, 10.07it/s]\n"
     ]
    },
    {
     "name": "stdout",
     "output_type": "stream",
     "text": [
      "Validation acc: 0.7673\n",
      "Time taken: 9268.99s\n",
      "Training acc over epoch: 0.0932\n",
      "Training loss (for one batch) at step 70000: 15.5129\n",
      "Seen so far: 4480064 samples\n"
     ]
    },
    {
     "name": "stderr",
     "output_type": "stream",
     "text": [
      "100%|██████████| 188/188 [00:18<00:00, 10.21it/s]\n"
     ]
    },
    {
     "name": "stdout",
     "output_type": "stream",
     "text": [
      "Validation acc: 0.7737\n",
      "Time taken: 9971.81s\n",
      "Training acc over epoch: 0.0935\n",
      "Training loss (for one batch) at step 75000: 17.6344\n",
      "Seen so far: 4800064 samples\n"
     ]
    },
    {
     "name": "stderr",
     "output_type": "stream",
     "text": [
      "100%|██████████| 188/188 [00:18<00:00, 10.21it/s]\n"
     ]
    },
    {
     "name": "stdout",
     "output_type": "stream",
     "text": [
      "Validation acc: 0.7667\n",
      "Time taken: 10675.01s\n",
      "Training acc over epoch: 0.0956\n",
      "Training loss (for one batch) at step 80000: 19.3093\n",
      "Seen so far: 5120064 samples\n"
     ]
    },
    {
     "name": "stderr",
     "output_type": "stream",
     "text": [
      "100%|██████████| 188/188 [00:18<00:00, 10.16it/s]\n"
     ]
    },
    {
     "name": "stdout",
     "output_type": "stream",
     "text": [
      "Validation acc: 0.7680\n",
      "Time taken: 11382.16s\n",
      "Training acc over epoch: 0.0956\n",
      "Training loss (for one batch) at step 85000: 13.5760\n",
      "Seen so far: 5440064 samples\n"
     ]
    },
    {
     "name": "stderr",
     "output_type": "stream",
     "text": [
      "100%|██████████| 188/188 [00:18<00:00, 10.24it/s]\n"
     ]
    },
    {
     "name": "stdout",
     "output_type": "stream",
     "text": [
      "Validation acc: 0.7477\n",
      "Time taken: 12086.03s\n",
      "Training acc over epoch: 0.0962\n",
      "Training loss (for one batch) at step 90000: 15.5131\n",
      "Seen so far: 5760064 samples\n"
     ]
    },
    {
     "name": "stderr",
     "output_type": "stream",
     "text": [
      "100%|██████████| 188/188 [00:18<00:00, 10.04it/s]\n"
     ]
    },
    {
     "name": "stdout",
     "output_type": "stream",
     "text": [
      "Validation acc: 0.7700\n",
      "Time taken: 12787.05s\n",
      "Training acc over epoch: 0.0965\n",
      "======================================================\n",
      "================= Start of epoch 8 ==================\n",
      "======================================================\n",
      "Training loss (for one batch) at step 0: 16.1252\n",
      "Seen so far: 64 samples\n"
     ]
    },
    {
     "name": "stderr",
     "output_type": "stream",
     "text": [
      "100%|██████████| 188/188 [00:18<00:00, 10.23it/s]\n"
     ]
    },
    {
     "name": "stdout",
     "output_type": "stream",
     "text": [
      "Validation acc: 0.7752\n",
      "Time taken: 28.67s\n",
      "Training acc over epoch: 0.0952\n",
      "Training loss (for one batch) at step 5000: 15.8306\n",
      "Seen so far: 320064 samples\n"
     ]
    },
    {
     "name": "stderr",
     "output_type": "stream",
     "text": [
      "100%|██████████| 188/188 [00:18<00:00, 10.23it/s]\n"
     ]
    },
    {
     "name": "stdout",
     "output_type": "stream",
     "text": [
      "Validation acc: 0.7762\n",
      "Time taken: 733.53s\n",
      "Training acc over epoch: 0.0967\n",
      "Training loss (for one batch) at step 10000: 16.1911\n",
      "Seen so far: 640064 samples\n"
     ]
    },
    {
     "name": "stderr",
     "output_type": "stream",
     "text": [
      "100%|██████████| 188/188 [00:18<00:00, 10.19it/s]\n"
     ]
    },
    {
     "name": "stdout",
     "output_type": "stream",
     "text": [
      "Validation acc: 0.7832\n",
      "Time taken: 1435.30s\n",
      "Training acc over epoch: 0.0998\n",
      "Training loss (for one batch) at step 15000: 15.8140\n",
      "Seen so far: 960064 samples\n"
     ]
    },
    {
     "name": "stderr",
     "output_type": "stream",
     "text": [
      "100%|██████████| 188/188 [00:18<00:00, 10.03it/s]\n"
     ]
    },
    {
     "name": "stdout",
     "output_type": "stream",
     "text": [
      "Validation acc: 0.7723\n",
      "Time taken: 2135.55s\n",
      "Training acc over epoch: 0.1010\n",
      "Training loss (for one batch) at step 20000: 18.2766\n",
      "Seen so far: 1280064 samples\n"
     ]
    },
    {
     "name": "stderr",
     "output_type": "stream",
     "text": [
      "100%|██████████| 188/188 [00:18<00:00,  9.94it/s]\n"
     ]
    },
    {
     "name": "stdout",
     "output_type": "stream",
     "text": [
      "Validation acc: 0.7645\n",
      "Time taken: 2835.68s\n",
      "Training acc over epoch: 0.1022\n",
      "Training loss (for one batch) at step 25000: 15.8156\n",
      "Seen so far: 1600064 samples\n"
     ]
    },
    {
     "name": "stderr",
     "output_type": "stream",
     "text": [
      "100%|██████████| 188/188 [00:18<00:00, 10.29it/s]\n"
     ]
    },
    {
     "name": "stdout",
     "output_type": "stream",
     "text": [
      "Validation acc: 0.7607\n",
      "Time taken: 3533.77s\n",
      "Training acc over epoch: 0.1058\n",
      "Training loss (for one batch) at step 30000: 17.4959\n",
      "Seen so far: 1920064 samples\n"
     ]
    },
    {
     "name": "stderr",
     "output_type": "stream",
     "text": [
      "100%|██████████| 188/188 [00:18<00:00, 10.19it/s]\n"
     ]
    },
    {
     "name": "stdout",
     "output_type": "stream",
     "text": [
      "Validation acc: 0.7497\n",
      "Time taken: 4232.65s\n",
      "Training acc over epoch: 0.1005\n",
      "Training loss (for one batch) at step 35000: 17.3565\n",
      "Seen so far: 2240064 samples\n"
     ]
    },
    {
     "name": "stderr",
     "output_type": "stream",
     "text": [
      "100%|██████████| 188/188 [00:18<00:00, 10.14it/s]\n"
     ]
    },
    {
     "name": "stdout",
     "output_type": "stream",
     "text": [
      "Validation acc: 0.7727\n",
      "Time taken: 4933.67s\n",
      "Training acc over epoch: 0.0964\n",
      "Training loss (for one batch) at step 40000: 16.7686\n",
      "Seen so far: 2560064 samples\n"
     ]
    },
    {
     "name": "stderr",
     "output_type": "stream",
     "text": [
      "100%|██████████| 188/188 [00:18<00:00, 10.07it/s]\n"
     ]
    },
    {
     "name": "stdout",
     "output_type": "stream",
     "text": [
      "Validation acc: 0.7680\n",
      "Time taken: 5631.95s\n",
      "Training acc over epoch: 0.0971\n",
      "Training loss (for one batch) at step 45000: 16.2400\n",
      "Seen so far: 2880064 samples\n"
     ]
    },
    {
     "name": "stderr",
     "output_type": "stream",
     "text": [
      "100%|██████████| 188/188 [00:18<00:00, 10.20it/s]\n"
     ]
    },
    {
     "name": "stdout",
     "output_type": "stream",
     "text": [
      "Validation acc: 0.7728\n",
      "Time taken: 6335.24s\n",
      "Training acc over epoch: 0.0983\n",
      "Training loss (for one batch) at step 50000: 14.7420\n",
      "Seen so far: 3200064 samples\n"
     ]
    },
    {
     "name": "stderr",
     "output_type": "stream",
     "text": [
      "100%|██████████| 188/188 [00:18<00:00, 10.15it/s]\n"
     ]
    },
    {
     "name": "stdout",
     "output_type": "stream",
     "text": [
      "Validation acc: 0.7602\n",
      "Time taken: 7035.62s\n",
      "Training acc over epoch: 0.0983\n",
      "Training loss (for one batch) at step 55000: 15.1873\n",
      "Seen so far: 3520064 samples\n"
     ]
    },
    {
     "name": "stderr",
     "output_type": "stream",
     "text": [
      "100%|██████████| 188/188 [00:18<00:00, 10.21it/s]\n"
     ]
    },
    {
     "name": "stdout",
     "output_type": "stream",
     "text": [
      "Validation acc: 0.7877\n",
      "Time taken: 7731.90s\n",
      "Training acc over epoch: 0.0988\n",
      "Training loss (for one batch) at step 60000: 16.7625\n",
      "Seen so far: 3840064 samples\n"
     ]
    },
    {
     "name": "stderr",
     "output_type": "stream",
     "text": [
      "100%|██████████| 188/188 [00:18<00:00, 10.26it/s]\n"
     ]
    },
    {
     "name": "stdout",
     "output_type": "stream",
     "text": [
      "Validation acc: 0.7628\n",
      "Time taken: 8433.26s\n",
      "Training acc over epoch: 0.0955\n",
      "Training loss (for one batch) at step 65000: 15.3704\n",
      "Seen so far: 4160064 samples\n"
     ]
    },
    {
     "name": "stderr",
     "output_type": "stream",
     "text": [
      "100%|██████████| 188/188 [00:18<00:00, 10.17it/s]\n"
     ]
    },
    {
     "name": "stdout",
     "output_type": "stream",
     "text": [
      "Validation acc: 0.7627\n",
      "Time taken: 9132.80s\n",
      "Training acc over epoch: 0.0964\n",
      "Training loss (for one batch) at step 70000: 15.0797\n",
      "Seen so far: 4480064 samples\n"
     ]
    },
    {
     "name": "stderr",
     "output_type": "stream",
     "text": [
      "100%|██████████| 188/188 [00:18<00:00, 10.28it/s]\n"
     ]
    },
    {
     "name": "stdout",
     "output_type": "stream",
     "text": [
      "Validation acc: 0.7965\n",
      "Time taken: 9834.93s\n",
      "Training acc over epoch: 0.0957\n",
      "Training loss (for one batch) at step 75000: 17.1901\n",
      "Seen so far: 4800064 samples\n"
     ]
    },
    {
     "name": "stderr",
     "output_type": "stream",
     "text": [
      "100%|██████████| 188/188 [00:18<00:00, 10.31it/s]\n"
     ]
    },
    {
     "name": "stdout",
     "output_type": "stream",
     "text": [
      "Validation acc: 0.7672\n",
      "Time taken: 10535.46s\n",
      "Training acc over epoch: 0.0979\n",
      "Training loss (for one batch) at step 80000: 18.9944\n",
      "Seen so far: 5120064 samples\n"
     ]
    },
    {
     "name": "stderr",
     "output_type": "stream",
     "text": [
      "100%|██████████| 188/188 [00:18<00:00, 10.21it/s]\n"
     ]
    },
    {
     "name": "stdout",
     "output_type": "stream",
     "text": [
      "Validation acc: 0.7843\n",
      "Time taken: 11234.46s\n",
      "Training acc over epoch: 0.0979\n",
      "Training loss (for one batch) at step 85000: 13.4730\n",
      "Seen so far: 5440064 samples\n"
     ]
    },
    {
     "name": "stderr",
     "output_type": "stream",
     "text": [
      "100%|██████████| 188/188 [00:18<00:00, 10.18it/s]\n"
     ]
    },
    {
     "name": "stdout",
     "output_type": "stream",
     "text": [
      "Validation acc: 0.7545\n",
      "Time taken: 11932.93s\n",
      "Training acc over epoch: 0.0988\n",
      "Training loss (for one batch) at step 90000: 15.3898\n",
      "Seen so far: 5760064 samples\n"
     ]
    },
    {
     "name": "stderr",
     "output_type": "stream",
     "text": [
      "100%|██████████| 188/188 [00:18<00:00, 10.08it/s]\n"
     ]
    },
    {
     "name": "stdout",
     "output_type": "stream",
     "text": [
      "Validation acc: 0.7813\n",
      "Time taken: 12631.63s\n",
      "Training acc over epoch: 0.0992\n",
      "======================================================\n",
      "================= Start of epoch 9 ==================\n",
      "======================================================\n",
      "Training loss (for one batch) at step 0: 15.7572\n",
      "Seen so far: 64 samples\n"
     ]
    },
    {
     "name": "stderr",
     "output_type": "stream",
     "text": [
      "100%|██████████| 188/188 [00:18<00:00, 10.38it/s]\n"
     ]
    },
    {
     "name": "stdout",
     "output_type": "stream",
     "text": [
      "Validation acc: 0.7660\n",
      "Time taken: 28.35s\n",
      "Training acc over epoch: 0.0981\n",
      "Training loss (for one batch) at step 5000: 16.1028\n",
      "Seen so far: 320064 samples\n"
     ]
    },
    {
     "name": "stderr",
     "output_type": "stream",
     "text": [
      "100%|██████████| 188/188 [00:18<00:00, 10.29it/s]\n"
     ]
    },
    {
     "name": "stdout",
     "output_type": "stream",
     "text": [
      "Validation acc: 0.7768\n",
      "Time taken: 730.19s\n",
      "Training acc over epoch: 0.0988\n"
     ]
    }
   ],
   "source": [
    "import time\n",
    "from absl import app, flags, logging\n",
    "from absl.flags import FLAGS\n",
    "import cv2\n",
    "import os\n",
    "\n",
    "import numpy as np\n",
    "import tensorflow as tf\n",
    "from glob import glob\n",
    "\n",
    "from evaluations import get_val_data, perform_val\n",
    "from models import ArcFaceModel\n",
    "from utils import set_memory_growth, load_yaml\n",
    "\n",
    "\n",
    "lfw, agedb_30, cfp_fp, lfw_issame, agedb_30_issame, cfp_fp_issame = get_val_data(\"/raid/workspace/honghee/\")\n",
    "\n",
    "loss_fn = softmax_loss\n",
    "epochs = 25\n",
    "\n",
    "best_val_acc = 0\n",
    "\n",
    "for epoch in range(epochs):\n",
    "    print(\"======================================================\")\n",
    "    print(\"================= Start of epoch %d ==================\" % (epoch,))\n",
    "    print(\"======================================================\")\n",
    "    start_time = time.time()\n",
    "\n",
    "    # Iterate over the batches of the dataset.\n",
    "    for step, (x_batch_train, y_batch_train) in enumerate(train_loader):\n",
    "        x_batch_train = x_batch_train.cpu().numpy()\n",
    "        y_batch_train = y_batch_train.cpu().numpy()\n",
    "        with tf.GradientTape() as tape:\n",
    "            logits = model((x_batch_train, y_batch_train), training=True)\n",
    "            loss_value = loss_fn(y_batch_train, logits)\n",
    "        grads = tape.gradient(loss_value, model.trainable_weights)\n",
    "        optimizer.apply_gradients(zip(grads, model.trainable_weights))\n",
    "\n",
    "        # Update training metric.\n",
    "        train_acc_metric.update_state(y_batch_train, logits)\n",
    "\n",
    "        # Log every 5000 batches.\n",
    "        if step % 5000 == 0:\n",
    "            print(\n",
    "                \"Training loss (for one batch) at step %d: %.4f\"\n",
    "                % (step, float(loss_value))\n",
    "            )\n",
    "            print(\"Seen so far: %d samples\" % ((step + 1) * batch_size))\n",
    "            model.save_weights(\"tmp/ckpt-h5/ckpt-1.h5\")\n",
    "            \n",
    "            # Run a validation loop at the end of each epoch.\n",
    "            best_checkpoint = \"tmp/ckpt-h5/ckpt-1.h5\"\n",
    "            vf_model = ArcFaceModel(size=input_size,\n",
    "                                 backbone_type=backbone_type,               \n",
    "                                 training=False)\n",
    "            vf_model.load_weights(best_checkpoint, by_name=True, skip_mismatch= True)\n",
    "\n",
    "            acc_lfw, best_th = perform_val(\n",
    "                embd_shape, batch_size, vf_model, lfw, lfw_issame,\n",
    "                is_ccrop=False)\n",
    "            val_acc = acc_lfw\n",
    "            print(\"Validation acc: %.4f\" % (float(val_acc),))\n",
    "            print(\"Time taken: %.2fs\" % (time.time() - start_time))\n",
    "            if best_val_acc < val_acc:\n",
    "                best_val_acc = val_acc\n",
    "                model.save_weights(\"tmp/ckpt-h5/ckpt-best.h5\")               \n",
    "            \n",
    "            # Display metrics at the end of each epoch.\n",
    "            train_acc = train_acc_metric.result()\n",
    "            print(\"Training acc over epoch: %.4f\" % (float(train_acc),))\n",
    "            # Reset training metrics at the end of each epoch\n",
    "            train_acc_metric.reset_states()\n",
    "    model.save_weights(f'tmp/ckpt-h5/epoch-{epoch}.h5')"
   ]
  },
  {
   "cell_type": "code",
   "execution_count": null,
   "metadata": {},
   "outputs": [],
   "source": []
  }
 ],
 "metadata": {
  "kernelspec": {
   "display_name": "Python 3",
   "language": "python",
   "name": "python3"
  },
  "language_info": {
   "codemirror_mode": {
    "name": "ipython",
    "version": 3
   },
   "file_extension": ".py",
   "mimetype": "text/x-python",
   "name": "python",
   "nbconvert_exporter": "python",
   "pygments_lexer": "ipython3",
   "version": "3.6.9"
  }
 },
 "nbformat": 4,
 "nbformat_minor": 2
}
