{
 "cells": [
  {
   "cell_type": "code",
   "execution_count": 10,
   "metadata": {},
   "outputs": [],
   "source": [
    "from tensorflow.keras.layers import (\n",
    "    Dense,\n",
    "    Dropout,\n",
    "    Flatten,\n",
    "    Input,\n",
    "    BatchNormalization,  #Added\n",
    ")\n",
    "from tensorflow.keras import Model\n",
    "import tensorflow as tf\n",
    "from EfficientNetLite.efficientNetLite  import (\n",
    "    EfficientNetLite0,\n",
    "    EfficientNetLite1,\n",
    "    EfficientNetLite2,\n",
    "    EfficientNetLite3,\n",
    "    EfficientNetLite4,\n",
    "    EfficientNetLite5,\n",
    "    EfficientNetLite6,\n",
    ") \n",
    "import os\n",
    "# os.environ[\"CUDA_VISIBLE_DEVICES\"]=\"0,1\"\n",
    "os.environ[\"CUDA_VISIBLE_DEVICES\"]=\"1\""
   ]
  },
  {
   "cell_type": "code",
   "execution_count": 11,
   "metadata": {},
   "outputs": [],
   "source": [
    "x = inputs = Input([112, 112, 3], name='input_image')\n",
    "x = EfficientNetLite0(input_shape=x.shape[1:], include_top=False,\n",
    "                               weights=None)(x)"
   ]
  },
  {
   "cell_type": "code",
   "execution_count": 12,
   "metadata": {},
   "outputs": [],
   "source": [
    "model = Model(inputs, x, name=\"EfficientNetLite0\")"
   ]
  },
  {
   "cell_type": "code",
   "execution_count": 13,
   "metadata": {},
   "outputs": [
    {
     "name": "stdout",
     "output_type": "stream",
     "text": [
      "Model: \"EfficientNetLite0\"\n",
      "_________________________________________________________________\n",
      "Layer (type)                 Output Shape              Param #   \n",
      "=================================================================\n",
      "input_image (InputLayer)     [(None, 112, 112, 3)]     0         \n",
      "_________________________________________________________________\n",
      "efficientnet-lite0 (Function (None, 4, 4, 1280)        3413031   \n",
      "=================================================================\n",
      "Total params: 3,413,031\n",
      "Trainable params: 3,371,008\n",
      "Non-trainable params: 42,023\n",
      "_________________________________________________________________\n"
     ]
    }
   ],
   "source": [
    "model.summary()"
   ]
  },
  {
   "cell_type": "code",
   "execution_count": null,
   "metadata": {},
   "outputs": [],
   "source": []
  }
 ],
 "metadata": {
  "kernelspec": {
   "display_name": "Python 3",
   "language": "python",
   "name": "python3"
  },
  "language_info": {
   "codemirror_mode": {
    "name": "ipython",
    "version": 3
   },
   "file_extension": ".py",
   "mimetype": "text/x-python",
   "name": "python",
   "nbconvert_exporter": "python",
   "pygments_lexer": "ipython3",
   "version": "3.6.9"
  }
 },
 "nbformat": 4,
 "nbformat_minor": 2
}
