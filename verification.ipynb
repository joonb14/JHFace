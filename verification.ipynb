{
 "cells": [
  {
   "cell_type": "code",
   "execution_count": 1,
   "metadata": {},
   "outputs": [],
   "source": [
    "from absl import app, flags, logging\n",
    "from absl.flags import FLAGS\n",
    "import cv2\n",
    "import os\n",
    "\n",
    "import numpy as np\n",
    "import tensorflow as tf\n",
    "from glob import glob\n",
    "\n",
    "from evaluations import get_val_data, perform_val\n",
    "from models import ArcFaceModel\n",
    "from utils import set_memory_growth, load_yaml"
   ]
  },
  {
   "cell_type": "code",
   "execution_count": 18,
   "metadata": {},
   "outputs": [
    {
     "name": "stdout",
     "output_type": "stream",
     "text": [
      "proj_head: False\n",
      "ArcHead\n",
      "InceptionResNetV2\n",
      "Adam: False\n"
     ]
    }
   ],
   "source": [
    "batch_size = 128 # Initially 128\n",
    "input_size = 112\n",
    "embd_shape = 512\n",
    "is_ccrop=False\n",
    "binary_img=True\n",
    "\n",
    "is_Adam = False   # True\n",
    "dgx = True\n",
    "projection_head = False  # False\n",
    "\n",
    "head_type = 'ArcHead' # ''ArcHead', CosHead', 'SphereHead', 'CurHead', 'CadHead', 'AdaHead'\n",
    "# Backbones w/ pretrained weights:\n",
    "#     MobileNet, MobileNetV2, InceptionResNetV2, InceptionV3, ResNet50, ResNet50V2, ResNet101V2, NASNetLarge, NASNetMobile, Xception, MobileNetV3Large, MobileNetV3Small, EfficientNetLite0~6, EfficientNetB0~7\n",
    "# Backbones w/o pretrained weights:\n",
    "#      MnasNetA1, MnasNetB1, MnasNetSmall \n",
    "backbone_type = 'InceptionResNetV2' \n",
    "   \n",
    "print(\"proj_head:\", projection_head)    \n",
    "print(head_type)\n",
    "print(backbone_type)\n",
    "print(\"Adam:\", is_Adam)\n"
   ]
  },
  {
   "cell_type": "code",
   "execution_count": 19,
   "metadata": {},
   "outputs": [
    {
     "ename": "AttributeError",
     "evalue": "'list' object has no attribute 'split'",
     "output_type": "error",
     "traceback": [
      "\u001b[0;31m---------------------------------------------------------------------------\u001b[0m",
      "\u001b[0;31mAttributeError\u001b[0m                            Traceback (most recent call last)",
      "\u001b[0;32m<ipython-input-19-46bd1589f1f0>\u001b[0m in \u001b[0;36m<module>\u001b[0;34m\u001b[0m\n\u001b[1;32m     30\u001b[0m     \u001b[0;32melif\u001b[0m \u001b[0mfile_list\u001b[0m\u001b[0;34m[\u001b[0m\u001b[0;36m0\u001b[0m\u001b[0;34m]\u001b[0m \u001b[0;34m==\u001b[0m \u001b[0mfloat\u001b[0m\u001b[0;34m(\u001b[0m \u001b[0mfiles\u001b[0m\u001b[0;34m.\u001b[0m\u001b[0msplit\u001b[0m\u001b[0;34m(\u001b[0m\u001b[0;34m'/'\u001b[0m\u001b[0;34m)\u001b[0m\u001b[0;34m[\u001b[0m\u001b[0;34m-\u001b[0m\u001b[0;36m1\u001b[0m\u001b[0;34m]\u001b[0m\u001b[0;34m.\u001b[0m\u001b[0msplit\u001b[0m\u001b[0;34m(\u001b[0m\u001b[0;34m'l_'\u001b[0m\u001b[0;34m)\u001b[0m\u001b[0;34m[\u001b[0m\u001b[0;34m-\u001b[0m\u001b[0;36m1\u001b[0m\u001b[0;34m]\u001b[0m\u001b[0;34m.\u001b[0m\u001b[0msplit\u001b[0m\u001b[0;34m(\u001b[0m\u001b[0;34m'.ckpt'\u001b[0m\u001b[0;34m)\u001b[0m\u001b[0;34m[\u001b[0m\u001b[0;36m0\u001b[0m\u001b[0;34m]\u001b[0m \u001b[0;34m)\u001b[0m \u001b[0;32mand\u001b[0m \u001b[0mfiles\u001b[0m\u001b[0;34m.\u001b[0m\u001b[0msplit\u001b[0m\u001b[0;34m(\u001b[0m\u001b[0;34m'/'\u001b[0m\u001b[0;34m)\u001b[0m\u001b[0;34m[\u001b[0m\u001b[0;34m-\u001b[0m\u001b[0;36m1\u001b[0m\u001b[0;34m]\u001b[0m\u001b[0;34m.\u001b[0m\u001b[0msplit\u001b[0m\u001b[0;34m(\u001b[0m\u001b[0;34m'l_'\u001b[0m\u001b[0;34m)\u001b[0m\u001b[0;34m[\u001b[0m\u001b[0;34m-\u001b[0m\u001b[0;36m1\u001b[0m\u001b[0;34m]\u001b[0m\u001b[0;34m.\u001b[0m\u001b[0msplit\u001b[0m\u001b[0;34m(\u001b[0m\u001b[0;34m'.ckpt'\u001b[0m\u001b[0;34m)\u001b[0m\u001b[0;34m[\u001b[0m\u001b[0;34m-\u001b[0m\u001b[0;36m1\u001b[0m\u001b[0;34m]\u001b[0m\u001b[0;34m!=\u001b[0m\u001b[0;34m'.index'\u001b[0m\u001b[0;34m:\u001b[0m\u001b[0;34m\u001b[0m\u001b[0;34m\u001b[0m\u001b[0m\n\u001b[1;32m     31\u001b[0m         \u001b[0mload_file_name\u001b[0m \u001b[0;34m=\u001b[0m \u001b[0mfiles\u001b[0m\u001b[0;34m\u001b[0m\u001b[0;34m\u001b[0m\u001b[0m\n\u001b[0;32m---> 32\u001b[0;31m \u001b[0mbest_checkpoint\u001b[0m \u001b[0;34m=\u001b[0m \u001b[0mload_file_name\u001b[0m\u001b[0;34m.\u001b[0m\u001b[0msplit\u001b[0m\u001b[0;34m(\u001b[0m\u001b[0;34m'.data'\u001b[0m\u001b[0;34m)\u001b[0m\u001b[0;34m[\u001b[0m\u001b[0;36m0\u001b[0m\u001b[0;34m]\u001b[0m\u001b[0;34m\u001b[0m\u001b[0;34m\u001b[0m\u001b[0m\n\u001b[0m\u001b[1;32m     33\u001b[0m \u001b[0minitial_epoch\u001b[0m \u001b[0;34m=\u001b[0m \u001b[0mint\u001b[0m\u001b[0;34m(\u001b[0m\u001b[0mload_file_name\u001b[0m\u001b[0;34m.\u001b[0m\u001b[0msplit\u001b[0m\u001b[0;34m(\u001b[0m\u001b[0;34m'e_'\u001b[0m\u001b[0;34m)\u001b[0m\u001b[0;34m[\u001b[0m\u001b[0;34m-\u001b[0m\u001b[0;36m1\u001b[0m\u001b[0;34m]\u001b[0m\u001b[0;34m.\u001b[0m\u001b[0msplit\u001b[0m\u001b[0;34m(\u001b[0m\u001b[0;34m'_'\u001b[0m\u001b[0;34m)\u001b[0m\u001b[0;34m[\u001b[0m\u001b[0;36m0\u001b[0m\u001b[0;34m]\u001b[0m\u001b[0;34m)\u001b[0m\u001b[0;34m-\u001b[0m\u001b[0;36m1\u001b[0m\u001b[0;34m\u001b[0m\u001b[0;34m\u001b[0m\u001b[0m\n\u001b[1;32m     34\u001b[0m \u001b[0mprint\u001b[0m\u001b[0;34m(\u001b[0m\u001b[0mbest_checkpoint\u001b[0m\u001b[0;34m)\u001b[0m\u001b[0;34m\u001b[0m\u001b[0;34m\u001b[0m\u001b[0m\n",
      "\u001b[0;31mAttributeError\u001b[0m: 'list' object has no attribute 'split'"
     ]
    }
   ],
   "source": [
    "if is_Adam:\n",
    "    version = \"Adam\"\n",
    "else:\n",
    "    version = \"SGD\"\n",
    "    \n",
    "if dgx:\n",
    "    base_dir = \"/raid/workspace/honghee/FaceRecognition/checkpoints/w_tfidentity/\"\n",
    "    # save_name = \"ms1m_mobilenet_check/SGD/*\"\n",
    "    if projection_head:\n",
    "        save_name = f'ms1m_{backbone_type}_{head_type}_ProjectionHead_check/{version}/*'\n",
    "    else:\n",
    "        save_name = f'ms1m_{backbone_type}_{head_type}_check/{version}/*'\n",
    "else:\n",
    "    base_dir = \"/hd/honghee/models/checkpoints/w_tfidentity/\"\n",
    "    save_name = f'ms1m_{backbone_type}_{head_type}_check/{version}/*'   \n",
    "\n",
    "    \n",
    "## collect loss in checkpoints\n",
    "file_list = []\n",
    "for files in glob(f'{base_dir}{save_name}'):\n",
    "    if not files.split('/')[-1].split('l_')[-1].split('.ckpt')[0] == 'checkpoint':\n",
    "        loss = float( files.split('/')[-1].split('l_')[-1].split('.ckpt')[0] )\n",
    "    file_list.append( loss  )\n",
    "file_list.sort()\n",
    "\n",
    "load_file_name = []\n",
    "for files in glob(f'{base_dir}{save_name}'):\n",
    "    if files.split('/')[-1].split('l_')[-1].split('.ckpt')[0] == 'checkpoint':\n",
    "        pass\n",
    "    elif file_list[0] == float( files.split('/')[-1].split('l_')[-1].split('.ckpt')[0] ) and files.split('/')[-1].split('l_')[-1].split('.ckpt')[-1]!='.index':\n",
    "        load_file_name = files\n",
    "best_checkpoint = load_file_name.split('.data')[0]\n",
    "initial_epoch = int(load_file_name.split('e_')[-1].split('_')[0])-1\n",
    "print(best_checkpoint)"
   ]
  },
  {
   "cell_type": "code",
   "execution_count": 20,
   "metadata": {},
   "outputs": [],
   "source": [
    "best_checkpoint=\"/raid/workspace/honghee/FaceRecognition/checkpoints/w_tfidentity/ms1m_InceptionResNetV2_ArcHead_check/Check/e_20_l_5.7375640869140625.ckpt\"\n",
    "# best_checkpoint=\"/home/honghee/workspace/JHFace/tmp/ckpt/ckpt-1.h5\""
   ]
  },
  {
   "cell_type": "code",
   "execution_count": 21,
   "metadata": {
    "scrolled": false
   },
   "outputs": [
    {
     "name": "stderr",
     "output_type": "stream",
     "text": [
      "\r",
      "  0%|          | 0/94 [00:00<?, ?it/s]"
     ]
    },
    {
     "name": "stdout",
     "output_type": "stream",
     "text": [
      "[*] Loading LFW, AgeDB30 and CFP-FP...\n",
      "[*] Perform Evaluation on LFW...\n"
     ]
    },
    {
     "name": "stderr",
     "output_type": "stream",
     "text": [
      "100%|██████████| 94/94 [00:39<00:00,  2.38it/s]\n",
      "  0%|          | 0/94 [00:00<?, ?it/s]"
     ]
    },
    {
     "name": "stdout",
     "output_type": "stream",
     "text": [
      "    acc 0.9928, th: 0.67, tar 0.9893, far 0.0037\n",
      "[*] Perform Evaluation on AgeDB30...\n"
     ]
    },
    {
     "name": "stderr",
     "output_type": "stream",
     "text": [
      "100%|██████████| 94/94 [00:34<00:00,  2.70it/s]\n",
      "  0%|          | 0/110 [00:00<?, ?it/s]"
     ]
    },
    {
     "name": "stdout",
     "output_type": "stream",
     "text": [
      "    acc 0.9555, th: 0.73, tar 0.9393, far 0.0283\n",
      "[*] Perform Evaluation on CFP-FP...\n"
     ]
    },
    {
     "name": "stderr",
     "output_type": "stream",
     "text": [
      "100%|██████████| 110/110 [00:45<00:00,  2.43it/s]\n"
     ]
    },
    {
     "name": "stdout",
     "output_type": "stream",
     "text": [
      "    acc 0.9370, th: 0.81, tar 0.9226, far 0.0486\n"
     ]
    }
   ],
   "source": [
    "# flags.DEFINE_string('cfg_path', './configs/arc_res50.yaml', 'config file path')\n",
    "# flags.DEFINE_string('gpu', '0', 'which gpu to use')\n",
    "# flags.DEFINE_string('img_path', '', 'path to input image')\n",
    "\n",
    "os.environ['TF_CPP_MIN_LOG_LEVEL'] = '3'\n",
    "os.environ['CUDA_VISIBLE_DEVICES'] = '5'\n",
    "\n",
    "logger = tf.get_logger()\n",
    "logger.disabled = True\n",
    "logger.setLevel(logging.FATAL)\n",
    "set_memory_growth()\n",
    "\n",
    "# cfg = load_yaml(FLAGS.cfg_path)\n",
    "\n",
    "model = ArcFaceModel(size=input_size,\n",
    "                     backbone_type=backbone_type,                     \n",
    "                     training=False)\n",
    "\n",
    "model.load_weights(best_checkpoint)\n",
    "# model.load_weights(best_checkpoint, by_name=True, skip_mismatch= True)\n",
    "\n",
    "# ckpt_path = tf.train.latest_checkpoint('./checkpoints/' + cfg['sub_name'])\n",
    "# if ckpt_path is not None:\n",
    "#     print(\"[*] load ckpt from {}\".format(ckpt_path))\n",
    "#     model.load_weights(ckpt_path)\n",
    "# else:\n",
    "#     print(\"[*] Cannot find ckpt from {}.\".format(ckpt_path))\n",
    "#     exit()\n",
    "\n",
    "# if FLAGS.img_path:\n",
    "#     print(\"[*] Encode {} to ./output_embeds.npy\".format(FLAGS.img_path))\n",
    "#     img = cv2.imread(FLAGS.img_path)\n",
    "#     img = cv2.resize(img, (cfg['input_size'], cfg['input_size']))\n",
    "#     img = img.astype(np.float32) / 255.\n",
    "#     if len(img.shape) == 3:\n",
    "#         img = np.expand_dims(img, 0)\n",
    "#     embeds = l2_norm(model(img))\n",
    "#     np.save('./output_embeds.npy', embeds)\n",
    "\n",
    "print(\"[*] Loading LFW, AgeDB30 and CFP-FP...\")\n",
    "lfw, agedb_30, cfp_fp, lfw_issame, agedb_30_issame, cfp_fp_issame = get_val_data(\"/raid/workspace/honghee/\")\n",
    "\n",
    "print(\"[*] Perform Evaluation on LFW...\")\n",
    "best_tprs, best_fprs, tpr, fpr, acc_lfw, best_th = perform_val(\n",
    "    embd_shape, batch_size, model, lfw, lfw_issame,\n",
    "    is_ccrop=False)\n",
    "print(\"    acc {:.4f}, th: {:.2f}, tar {:.4f}, far {:.4f}\".format(acc_lfw, best_th, best_tprs, best_fprs))\n",
    "\n",
    "print(\"[*] Perform Evaluation on AgeDB30...\")\n",
    "best_tprs, best_fprs, tpr, fpr, acc_agedb30, best_th = perform_val(\n",
    "    embd_shape, batch_size, model, agedb_30,\n",
    "    agedb_30_issame, is_ccrop=False)\n",
    "print(\"    acc {:.4f}, th: {:.2f}, tar {:.4f}, far {:.4f}\".format(acc_agedb30, best_th, best_tprs, best_fprs))\n",
    "\n",
    "print(\"[*] Perform Evaluation on CFP-FP...\")\n",
    "best_tprs, best_fprs, tpr, fpr, acc_cfp_fp, best_th = perform_val(\n",
    "    embd_shape, batch_size, model, cfp_fp, cfp_fp_issame,\n",
    "    is_ccrop=False)\n",
    "print(\"    acc {:.4f}, th: {:.2f}, tar {:.4f}, far {:.4f}\".format(acc_cfp_fp, best_th, best_tprs, best_fprs))"
   ]
  },
  {
   "cell_type": "code",
   "execution_count": null,
   "metadata": {},
   "outputs": [],
   "source": []
  }
 ],
 "metadata": {
  "kernelspec": {
   "display_name": "Python 3",
   "language": "python",
   "name": "python3"
  },
  "language_info": {
   "codemirror_mode": {
    "name": "ipython",
    "version": 3
   },
   "file_extension": ".py",
   "mimetype": "text/x-python",
   "name": "python",
   "nbconvert_exporter": "python",
   "pygments_lexer": "ipython3",
   "version": "3.6.9"
  }
 },
 "nbformat": 4,
 "nbformat_minor": 2
}
