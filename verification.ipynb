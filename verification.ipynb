{
 "cells": [
  {
   "cell_type": "code",
   "execution_count": 1,
   "metadata": {},
   "outputs": [],
   "source": [
    "from absl import app, flags, logging\n",
    "from absl.flags import FLAGS\n",
    "import cv2\n",
    "import os\n",
    "import numpy as np\n",
    "import tensorflow as tf\n",
    "from glob import glob\n",
    "\n",
    "from evaluations import get_val_data, perform_val\n",
    "from models import ArcFaceModel\n",
    "from utils import set_memory_growth, load_yaml"
   ]
  },
  {
   "cell_type": "code",
   "execution_count": 14,
   "metadata": {},
   "outputs": [
    {
     "name": "stdout",
     "output_type": "stream",
     "text": [
      "proj_head: True\n",
      "ArcHead\n",
      "ResNet50\n",
      "Adam: False\n"
     ]
    }
   ],
   "source": [
    "batch_size = 128 # Initially 128\n",
    "input_size = 112\n",
    "embd_shape = 512\n",
    "is_ccrop=False\n",
    "binary_img=True\n",
    "\n",
    "is_Adam = False   # True\n",
    "dgx = True\n",
    "projection_head = True  # False\n",
    "\n",
    "head_type = 'ArcHead' # ''ArcHead', CosHead', 'SphereHead'\n",
    "# Backbones w/ pretrained weights:\n",
    "#     MobileNet, MobileNetV2, InceptionResNetV2, InceptionV3, ResNet50, ResNet50V2, ResNet101V2, NASNetLarge, NASNetMobile, Xception, MobileNetV3Large, MobileNetV3Small, EfficientNetLite0~6, EfficientNetB0~7\n",
    "# Backbones w/o pretrained weights:\n",
    "#      MnasNetA1, MnasNetB1, MnasNetSmall \n",
    "backbone_type = 'ResNet50' \n",
    "   \n",
    "print(\"proj_head:\", projection_head)    \n",
    "print(head_type)\n",
    "print(backbone_type)\n",
    "print(\"Adam:\", is_Adam)\n"
   ]
  },
  {
   "cell_type": "code",
   "execution_count": 15,
   "metadata": {},
   "outputs": [
    {
     "name": "stdout",
     "output_type": "stream",
     "text": [
      "/raid/workspace/honghee/FaceRecognition/checkpoints/w_tfidentity/ms1m_ResNet50_ArcHead_ProjectionHead_check/SGD/e_1_l_30.725444793701172.ckpt\n"
     ]
    }
   ],
   "source": [
    "if is_Adam:\n",
    "    version = \"Adam\"\n",
    "else:\n",
    "    version = \"SGD\"\n",
    "    \n",
    "if dgx:\n",
    "    base_dir = \"/raid/workspace/honghee/FaceRecognition/checkpoints/w_tfidentity/\"\n",
    "    # save_name = \"ms1m_mobilenet_check/SGD/*\"\n",
    "    if projection_head:\n",
    "        save_name = f'ms1m_{backbone_type}_{head_type}_ProjectionHead_check/{version}/*'\n",
    "    else:\n",
    "        save_name = f'ms1m_{backbone_type}_{head_type}_check/{version}/*'\n",
    "else:\n",
    "    base_dir = \"/hd/honghee/models/checkpoints/w_tfidentity/\"\n",
    "    save_name = f'ms1m_{backbone_type}_{head_type}_check/{version}/*'   \n",
    "\n",
    "    \n",
    "## collect loss in checkpoints\n",
    "file_list = []\n",
    "for files in glob(f'{base_dir}{save_name}'):\n",
    "    if not files.split('/')[-1].split('l_')[-1].split('.ckpt')[0] == 'checkpoint':\n",
    "        loss = float( files.split('/')[-1].split('l_')[-1].split('.ckpt')[0] )\n",
    "    file_list.append( loss  )\n",
    "file_list.sort()\n",
    "\n",
    "load_file_name = []\n",
    "for files in glob(f'{base_dir}{save_name}'):\n",
    "    if files.split('/')[-1].split('l_')[-1].split('.ckpt')[0] == 'checkpoint':\n",
    "        pass\n",
    "    elif file_list[0] == float( files.split('/')[-1].split('l_')[-1].split('.ckpt')[0] ) and files.split('/')[-1].split('l_')[-1].split('.ckpt')[-1]!='.index':\n",
    "        load_file_name = files\n",
    "best_checkpoint = load_file_name.split('.data')[0]\n",
    "initial_epoch = int(load_file_name.split('e_')[-1].split('_')[0])-1\n",
    "print(best_checkpoint)"
   ]
  },
  {
   "cell_type": "code",
   "execution_count": 16,
   "metadata": {},
   "outputs": [],
   "source": [
    "# best_checkpoint=\"/raid/workspace/honghee/FaceRecognition/checkpoints/w_tfidentity/ms1m_ResNet50_ArcHead_ProjectionHead_check/SGD/e_1_l_35.30466842651367.ckpt\""
   ]
  },
  {
   "cell_type": "code",
   "execution_count": 17,
   "metadata": {},
   "outputs": [
    {
     "name": "stderr",
     "output_type": "stream",
     "text": [
      "  1%|          | 1/94 [00:00<00:16,  5.79it/s]"
     ]
    },
    {
     "name": "stdout",
     "output_type": "stream",
     "text": [
      "[*] Loading LFW, AgeDB30 and CFP-FP...\n",
      "[*] Perform Evaluation on LFW...\n"
     ]
    },
    {
     "name": "stderr",
     "output_type": "stream",
     "text": [
      "100%|██████████| 94/94 [00:14<00:00,  6.31it/s]\n",
      "  1%|          | 1/94 [00:00<00:14,  6.35it/s]"
     ]
    },
    {
     "name": "stdout",
     "output_type": "stream",
     "text": [
      "    acc 0.7155, th: 0.14\n",
      "[*] Perform Evaluation on AgeDB30...\n"
     ]
    },
    {
     "name": "stderr",
     "output_type": "stream",
     "text": [
      "100%|██████████| 94/94 [00:14<00:00,  6.27it/s]\n",
      "  1%|          | 1/110 [00:00<00:19,  5.68it/s]"
     ]
    },
    {
     "name": "stdout",
     "output_type": "stream",
     "text": [
      "    acc 0.6788, th: 0.29\n",
      "[*] Perform Evaluation on CFP-FP...\n"
     ]
    },
    {
     "name": "stderr",
     "output_type": "stream",
     "text": [
      "100%|██████████| 110/110 [00:18<00:00,  5.86it/s]\n"
     ]
    },
    {
     "name": "stdout",
     "output_type": "stream",
     "text": [
      "    acc 0.6129, th: 0.26\n"
     ]
    }
   ],
   "source": [
    "# flags.DEFINE_string('cfg_path', './configs/arc_res50.yaml', 'config file path')\n",
    "# flags.DEFINE_string('gpu', '0', 'which gpu to use')\n",
    "# flags.DEFINE_string('img_path', '', 'path to input image')\n",
    "\n",
    "os.environ['TF_CPP_MIN_LOG_LEVEL'] = '3'\n",
    "os.environ['CUDA_VISIBLE_DEVICES'] = '1'\n",
    "\n",
    "logger = tf.get_logger()\n",
    "logger.disabled = True\n",
    "logger.setLevel(logging.FATAL)\n",
    "set_memory_growth()\n",
    "\n",
    "# cfg = load_yaml(FLAGS.cfg_path)\n",
    "\n",
    "model = ArcFaceModel(size=input_size,\n",
    "                     backbone_type=backbone_type,                     \n",
    "                     training=False)\n",
    "\n",
    "model.load_weights(best_checkpoint)\n",
    "\n",
    "# ckpt_path = tf.train.latest_checkpoint('./checkpoints/' + cfg['sub_name'])\n",
    "# if ckpt_path is not None:\n",
    "#     print(\"[*] load ckpt from {}\".format(ckpt_path))\n",
    "#     model.load_weights(ckpt_path)\n",
    "# else:\n",
    "#     print(\"[*] Cannot find ckpt from {}.\".format(ckpt_path))\n",
    "#     exit()\n",
    "\n",
    "# if FLAGS.img_path:\n",
    "#     print(\"[*] Encode {} to ./output_embeds.npy\".format(FLAGS.img_path))\n",
    "#     img = cv2.imread(FLAGS.img_path)\n",
    "#     img = cv2.resize(img, (cfg['input_size'], cfg['input_size']))\n",
    "#     img = img.astype(np.float32) / 255.\n",
    "#     if len(img.shape) == 3:\n",
    "#         img = np.expand_dims(img, 0)\n",
    "#     embeds = l2_norm(model(img))\n",
    "#     np.save('./output_embeds.npy', embeds)\n",
    "\n",
    "print(\"[*] Loading LFW, AgeDB30 and CFP-FP...\")\n",
    "lfw, agedb_30, cfp_fp, lfw_issame, agedb_30_issame, cfp_fp_issame = get_val_data(\"/raid/workspace/honghee/\")\n",
    "\n",
    "print(\"[*] Perform Evaluation on LFW...\")\n",
    "acc_lfw, best_th = perform_val(\n",
    "    embd_shape, batch_size, model, lfw, lfw_issame,\n",
    "    is_ccrop=False)\n",
    "print(\"    acc {:.4f}, th: {:.2f}\".format(acc_lfw, best_th))\n",
    "\n",
    "print(\"[*] Perform Evaluation on AgeDB30...\")\n",
    "acc_agedb30, best_th = perform_val(\n",
    "    embd_shape, batch_size, model, agedb_30,\n",
    "    agedb_30_issame, is_ccrop=False)\n",
    "print(\"    acc {:.4f}, th: {:.2f}\".format(acc_agedb30, best_th))\n",
    "\n",
    "print(\"[*] Perform Evaluation on CFP-FP...\")\n",
    "acc_cfp_fp, best_th = perform_val(\n",
    "    embd_shape, batch_size, model, cfp_fp, cfp_fp_issame,\n",
    "    is_ccrop=False)\n",
    "print(\"    acc {:.4f}, th: {:.2f}\".format(acc_cfp_fp, best_th))"
   ]
  },
  {
   "cell_type": "code",
   "execution_count": null,
   "metadata": {},
   "outputs": [],
   "source": []
  }
 ],
 "metadata": {
  "kernelspec": {
   "display_name": "Python 3",
   "language": "python",
   "name": "python3"
  },
  "language_info": {
   "codemirror_mode": {
    "name": "ipython",
    "version": 3
   },
   "file_extension": ".py",
   "mimetype": "text/x-python",
   "name": "python",
   "nbconvert_exporter": "python",
   "pygments_lexer": "ipython3",
   "version": "3.6.9"
  }
 },
 "nbformat": 4,
 "nbformat_minor": 2
}
