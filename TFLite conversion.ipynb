{
 "cells": [
  {
   "cell_type": "markdown",
   "metadata": {},
   "source": [
    "# TensorFlow Lite Conversion"
   ]
  },
  {
   "cell_type": "markdown",
   "metadata": {},
   "source": [
    "### Ref https://github.com/peteryuX/arcface-tf2"
   ]
  },
  {
   "cell_type": "code",
   "execution_count": 1,
   "metadata": {},
   "outputs": [],
   "source": [
    "from tensorflow.keras.callbacks import EarlyStopping, ModelCheckpoint, ReduceLROnPlateau, TensorBoard\n",
    "from models import ArcFaceModel\n",
    "import tensorflow as tf\n",
    "import os\n",
    "import logging\n",
    "import numpy as np\n",
    "from pathlib import Path\n",
    "import tensorflow.keras.backend as K\n",
    "from tensorflow.keras.models import Model, load_model\n",
    "from layers import ArcMarginPenaltyLogists\n",
    "from losses import softmax_loss\n",
    "from glob import glob\n",
    "\n",
    "tf.get_logger().setLevel(logging.ERROR)\n",
    "# os.environ[\"CUDA_VISIBLE_DEVICES\"]=\"0,1\"\n",
    "os.environ[\"CUDA_VISIBLE_DEVICES\"]=\"1\""
   ]
  },
  {
   "cell_type": "code",
   "execution_count": 2,
   "metadata": {},
   "outputs": [
    {
     "name": "stdout",
     "output_type": "stream",
     "text": [
      "1\r\n"
     ]
    }
   ],
   "source": [
    "!echo $CUDA_VISIBLE_DEVICES"
   ]
  },
  {
   "cell_type": "code",
   "execution_count": 3,
   "metadata": {},
   "outputs": [],
   "source": [
    "### IJB-C Dataset\n",
    "\n",
    "# batch_size = 128\n",
    "# input_size = 112\n",
    "# embd_shape = 512\n",
    "# head_type = 'ArcHead'\n",
    "# backbone_type = 'MobileNetV2'\n",
    "# w_decay=5e-4\n",
    "# num_classes = 3584 \n",
    "# base_lr = 0.01\n",
    "# dataset_len = 13033 \n",
    "# epochs = 100\n",
    "# steps_per_epoch = dataset_len // batch_size\n",
    "\n",
    "### MS1M dataset\n",
    "\n",
    "batch_size = 128 # Initially 128\n",
    "input_size = 112\n",
    "embd_shape = 512\n",
    "head_type = 'ArcHead'\n",
    "backbone_type = 'EfficientNetLite0' # MobileNetV2, ResNet50, EfficientNetLite0~6\n",
    "w_decay=5e-4\n",
    "num_classes = 85742 \n",
    "dataset_len = 5822653 \n",
    "base_lr = 0.01 # initially 0.01\n",
    "epochs = 20\n",
    "save_steps = 1000\n",
    "train_size = int(0.8 * dataset_len)\n",
    "steps_per_epoch = train_size // batch_size\n",
    "val_size = dataset_len - train_size\n",
    "validation_steps = val_size // batch_size\n",
    "steps = 1\n",
    "is_ccrop=False\n",
    "binary_img=True\n",
    "is_Adam = False\n",
    "\n",
    "dgx = True"
   ]
  },
  {
   "cell_type": "code",
   "execution_count": 4,
   "metadata": {},
   "outputs": [
    {
     "name": "stdout",
     "output_type": "stream",
     "text": [
      "0\n",
      "/raid/workspace/jbpark/FaceRecognition/checkpoints/w_tfidentity/ms1m_efficientnet_check/SGD/resume_e_1_l_44.074737548828125.ckpt\n"
     ]
    }
   ],
   "source": [
    "from glob import glob\n",
    "if dgx:\n",
    "    base_dir = \"/raid/workspace/jbpark/FaceRecognition/checkpoints/w_tfidentity/\"\n",
    "    # save_name = \"ms1m_mobilenet_check/SGD/*\"\n",
    "    save_name = \"ms1m_efficientnet_check/SGD/*\"\n",
    "else:\n",
    "    base_dir = \"/hd/jbpark/models/checkpoints/w_tfidentity/\"\n",
    "    save_name = \"ms1m_check/SGD/*\"\n",
    "file_list = []\n",
    "for files in glob(base_dir+save_name):\n",
    "    file_list.append(files.split('/')[-1].split('l_')[-1])\n",
    "file_list.sort()\n",
    "\n",
    "load_file_name = []\n",
    "for files in glob(base_dir+save_name):\n",
    "    if file_list[0] == files.split('/')[-1].split('l_')[-1]:\n",
    "        load_file_name = files\n",
    "best_checkpoint = load_file_name.split('.data')[0]\n",
    "initial_epoch = int(load_file_name.split('e_')[-1].split('_')[0])-1\n",
    "print(initial_epoch)\n",
    "print(best_checkpoint)"
   ]
  },
  {
   "cell_type": "code",
   "execution_count": 5,
   "metadata": {},
   "outputs": [
    {
     "name": "stdout",
     "output_type": "stream",
     "text": [
      "44\n"
     ]
    }
   ],
   "source": [
    "accuracy = file_list[0].split('.')[0]\n",
    "print(accuracy)"
   ]
  },
  {
   "cell_type": "code",
   "execution_count": 6,
   "metadata": {},
   "outputs": [],
   "source": [
    "weight_file = best_checkpoint\n",
    "\n",
    "model = ArcFaceModel(size=input_size,\n",
    "                         backbone_type=backbone_type,\n",
    "                         training=False)\n",
    "model.load_weights(weight_file)\n",
    "\n",
    "# Convert the model.\n",
    "converter = tf.lite.TFLiteConverter.from_keras_model(model)\n",
    "tflite_model = converter.convert()\n",
    "\n",
    "# Save the TF Lite model.\n",
    "if dgx:\n",
    "    Path('/raid/workspace/jbpark/FaceRecognition/tflite/').mkdir(parents=True, exist_ok=True)\n",
    "    with tf.io.gfile.GFile('/raid/workspace/jbpark/FaceRecognition/tflite/ms1m_acc_'+str(accuracy)+'.tflite', 'wb') as f:\n",
    "        f.write(tflite_model)\n",
    "else:\n",
    "    Path('/hd/jbpark/models/tflite/').mkdir(parents=True, exist_ok=True)\n",
    "    with tf.io.gfile.GFile('/hd/jbpark/models/tflite/ms1m_acc_'+str(accuracy)+'.tflite', 'wb') as f:\n",
    "        f.write(tflite_model)"
   ]
  },
  {
   "cell_type": "code",
   "execution_count": 7,
   "metadata": {},
   "outputs": [
    {
     "data": {
      "text/plain": [
       "[{'name': 'input_image',\n",
       "  'index': 0,\n",
       "  'shape': array([  1, 112, 112,   3], dtype=int32),\n",
       "  'shape_signature': array([ -1, 112, 112,   3], dtype=int32),\n",
       "  'dtype': numpy.float32,\n",
       "  'quantization': (0.0, 0),\n",
       "  'quantization_parameters': {'scales': array([], dtype=float32),\n",
       "   'zero_points': array([], dtype=int32),\n",
       "   'quantized_dimension': 0},\n",
       "  'sparsity_parameters': {}}]"
      ]
     },
     "execution_count": 7,
     "metadata": {},
     "output_type": "execute_result"
    }
   ],
   "source": [
    "import numpy as np\n",
    "import tensorflow as tf\n",
    "\n",
    "# Load the TFLite model and allocate tensors.\n",
    "if dgx:\n",
    "    interpreter = tf.lite.Interpreter(model_path='/raid/workspace/jbpark/FaceRecognition/tflite/ms1m_acc_'+str(accuracy)+'.tflite')\n",
    "else:\n",
    "    interpreter = tf.lite.Interpreter(model_path='/hd/jbpark/models/tflite/ms1m_acc_'+str(accuracy)+'.tflite')\n",
    "interpreter.allocate_tensors()\n",
    "\n",
    "# Get input and output tensors.\n",
    "input_details = interpreter.get_input_details()\n",
    "input_details"
   ]
  },
  {
   "cell_type": "code",
   "execution_count": 8,
   "metadata": {},
   "outputs": [
    {
     "data": {
      "text/plain": [
       "[{'name': 'Identity',\n",
       "  'index': 180,\n",
       "  'shape': array([  1, 512], dtype=int32),\n",
       "  'shape_signature': array([ -1, 512], dtype=int32),\n",
       "  'dtype': numpy.float32,\n",
       "  'quantization': (0.0, 0),\n",
       "  'quantization_parameters': {'scales': array([], dtype=float32),\n",
       "   'zero_points': array([], dtype=int32),\n",
       "   'quantized_dimension': 0},\n",
       "  'sparsity_parameters': {}}]"
      ]
     },
     "execution_count": 8,
     "metadata": {},
     "output_type": "execute_result"
    }
   ],
   "source": [
    "output_details = interpreter.get_output_details()\n",
    "output_details"
   ]
  },
  {
   "cell_type": "code",
   "execution_count": null,
   "metadata": {},
   "outputs": [],
   "source": []
  }
 ],
 "metadata": {
  "kernelspec": {
   "display_name": "Python 3",
   "language": "python",
   "name": "python3"
  },
  "language_info": {
   "codemirror_mode": {
    "name": "ipython",
    "version": 3
   },
   "file_extension": ".py",
   "mimetype": "text/x-python",
   "name": "python",
   "nbconvert_exporter": "python",
   "pygments_lexer": "ipython3",
   "version": "3.6.9"
  }
 },
 "nbformat": 4,
 "nbformat_minor": 2
}
